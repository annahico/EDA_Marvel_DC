{
 "cells": [
  {
   "cell_type": "markdown",
   "metadata": {},
   "source": [
    "# Marvel vs DC: Análisis de Datos"
   ]
  },
  {
   "cell_type": "markdown",
   "metadata": {},
   "source": [
    "### Introducción\n",
    "Este notebook analiza datos de las franquicias de Marvel y DC, centrándose en características como ingresos en taquilla, calificaciones de críticos y datos relacionados con el rendimiento de películas.\n",
    "\n",
    "**Mejoras realizadas:**\n",
    "- Separación de las celdas para cada etapa del análisis (importación, carga, limpieza, visualización, etc.).\n",
    "- Comentarios añadidos para mayor claridad.\n",
    "- Corrección de errores de sintaxis y formato.\n",
    "- Importación de librerías básicas en una única celda.\n",
    "- Inclusión de una lista de requisitos (`requirements.txt`)."
   ]
  },
  {
   "cell_type": "code",
   "execution_count": 31,
   "metadata": {
    "colab": {
     "background_save": true
    },
    "executionInfo": {
     "elapsed": 374,
     "status": "ok",
     "timestamp": 1671067107244,
     "user": {
      "displayName": "Muhammad Akbar",
      "userId": "00229604356602963247"
     },
     "user_tz": -420
    },
    "id": "vkAz8Se_vse3"
   },
   "outputs": [],
   "source": [
    "import pandas as pd\n",
    "import numpy as np\n",
    "import matplotlib.pyplot as plt\n",
    "import seaborn as sns"
   ]
  },
  {
   "cell_type": "markdown",
   "metadata": {},
   "source": [
    "### Carga de datos"
   ]
  },
  {
   "cell_type": "code",
   "execution_count": 41,
   "metadata": {
    "colab": {
     "background_save": true
    },
    "executionInfo": {
     "elapsed": 269,
     "status": "ok",
     "timestamp": 1671067110701,
     "user": {
      "displayName": "Muhammad Akbar",
      "userId": "00229604356602963247"
     },
     "user_tz": -420
    },
    "id": "PcmA63R6v1Dy"
   },
   "outputs": [],
   "source": [
    "df = pd.read_csv('CSV/Marvel_DC.csv',encoding='utf-8')"
   ]
  },
  {
   "cell_type": "markdown",
   "metadata": {},
   "source": [
    "### Limpieza de datos"
   ]
  },
  {
   "cell_type": "code",
   "execution_count": 42,
   "metadata": {
    "colab": {
     "background_save": true,
     "base_uri": "https://localhost:8080/"
    },
    "executionInfo": {
     "elapsed": 220,
     "status": "ok",
     "timestamp": 1671067110708,
     "user": {
      "displayName": "Muhammad Akbar",
      "userId": "00229604356602963247"
     },
     "user_tz": -420
    },
    "id": "jdQrHxn2zQOo"
   },
   "outputs": [
    {
     "data": {
      "text/plain": [
       "ID              0\n",
       "film            0\n",
       "Year           14\n",
       "Genre           7\n",
       "RunTime         0\n",
       "Description     0\n",
       "IMDB_Score      0\n",
       "Value_IMDB      0\n",
       "dtype: int64"
      ]
     },
     "execution_count": 42,
     "metadata": {},
     "output_type": "execute_result"
    }
   ],
   "source": [
    "df.isnull().sum()\n"
   ]
  },
  {
   "cell_type": "markdown",
   "metadata": {},
   "source": [
    " ### Vista preliminar de los datos"
   ]
  },
  {
   "cell_type": "code",
   "execution_count": 33,
   "metadata": {
    "colab": {
     "background_save": true,
     "base_uri": "https://localhost:8080/",
     "height": 600
    },
    "executionInfo": {
     "elapsed": 266,
     "status": "ok",
     "timestamp": 1671067110702,
     "user": {
      "displayName": "Muhammad Akbar",
      "userId": "00229604356602963247"
     },
     "user_tz": -420
    },
    "id": "EAne9S5qwCY0"
   },
   "outputs": [
    {
     "data": {
      "text/html": [
       "<div>\n",
       "<style scoped>\n",
       "    .dataframe tbody tr th:only-of-type {\n",
       "        vertical-align: middle;\n",
       "    }\n",
       "\n",
       "    .dataframe tbody tr th {\n",
       "        vertical-align: top;\n",
       "    }\n",
       "\n",
       "    .dataframe thead th {\n",
       "        text-align: right;\n",
       "    }\n",
       "</style>\n",
       "<table border=\"1\" class=\"dataframe\">\n",
       "  <thead>\n",
       "    <tr style=\"text-align: right;\">\n",
       "      <th></th>\n",
       "      <th>ID</th>\n",
       "      <th>film</th>\n",
       "      <th>Year</th>\n",
       "      <th>Genre</th>\n",
       "      <th>RunTime</th>\n",
       "      <th>Description</th>\n",
       "      <th>IMDB_Score</th>\n",
       "      <th>Value_IMDB</th>\n",
       "    </tr>\n",
       "  </thead>\n",
       "  <tbody>\n",
       "    <tr>\n",
       "      <th>0</th>\n",
       "      <td>0</td>\n",
       "      <td>Eternals</td>\n",
       "      <td>-2021</td>\n",
       "      <td>Action,Adventure,Drama</td>\n",
       "      <td>0</td>\n",
       "      <td>The saga of the Eternals, a race of immortal b...</td>\n",
       "      <td>0.0</td>\n",
       "      <td>Bad</td>\n",
       "    </tr>\n",
       "    <tr>\n",
       "      <th>1</th>\n",
       "      <td>1</td>\n",
       "      <td>Loki</td>\n",
       "      <td>(2021–2023)</td>\n",
       "      <td>Action,Adventure,Fantasy</td>\n",
       "      <td>0</td>\n",
       "      <td>A new Marvel chapter with Loki at its center.</td>\n",
       "      <td>0.0</td>\n",
       "      <td>Bad</td>\n",
       "    </tr>\n",
       "    <tr>\n",
       "      <th>2</th>\n",
       "      <td>2</td>\n",
       "      <td>The Falcon and the Winter Soldier</td>\n",
       "      <td>-2021</td>\n",
       "      <td>Action,Adventure,Drama</td>\n",
       "      <td>50 min</td>\n",
       "      <td>Following the events of 'Avengers: Endgame,' S...</td>\n",
       "      <td>7.5</td>\n",
       "      <td>Good</td>\n",
       "    </tr>\n",
       "    <tr>\n",
       "      <th>3</th>\n",
       "      <td>3</td>\n",
       "      <td>WandaVision</td>\n",
       "      <td>(2021)</td>\n",
       "      <td>Action,Comedy,Drama</td>\n",
       "      <td>350 min</td>\n",
       "      <td>Blends the style of classic sitcoms with the M...</td>\n",
       "      <td>8.1</td>\n",
       "      <td>Good</td>\n",
       "    </tr>\n",
       "    <tr>\n",
       "      <th>4</th>\n",
       "      <td>4</td>\n",
       "      <td>Spider-Man: No Way Home</td>\n",
       "      <td>-2021</td>\n",
       "      <td>Action,Adventure,Sci-Fi</td>\n",
       "      <td>0</td>\n",
       "      <td>A continuation of Spider-Man: Far From Home.</td>\n",
       "      <td>0.0</td>\n",
       "      <td>Bad</td>\n",
       "    </tr>\n",
       "  </tbody>\n",
       "</table>\n",
       "</div>"
      ],
      "text/plain": [
       "   ID                               film         Year  \\\n",
       "0   0                           Eternals        -2021   \n",
       "1   1                               Loki  (2021–2023)   \n",
       "2   2  The Falcon and the Winter Soldier        -2021   \n",
       "3   3                        WandaVision       (2021)   \n",
       "4   4            Spider-Man: No Way Home        -2021   \n",
       "\n",
       "                      Genre  RunTime  \\\n",
       "0    Action,Adventure,Drama        0   \n",
       "1  Action,Adventure,Fantasy        0   \n",
       "2    Action,Adventure,Drama   50 min   \n",
       "3       Action,Comedy,Drama  350 min   \n",
       "4   Action,Adventure,Sci-Fi        0   \n",
       "\n",
       "                                         Description  IMDB_Score Value_IMDB  \n",
       "0  The saga of the Eternals, a race of immortal b...         0.0        Bad  \n",
       "1      A new Marvel chapter with Loki at its center.         0.0        Bad  \n",
       "2  Following the events of 'Avengers: Endgame,' S...         7.5       Good  \n",
       "3  Blends the style of classic sitcoms with the M...         8.1       Good  \n",
       "4       A continuation of Spider-Man: Far From Home.         0.0        Bad  "
      ]
     },
     "execution_count": 33,
     "metadata": {},
     "output_type": "execute_result"
    }
   ],
   "source": [
    "df.head()"
   ]
  },
  {
   "cell_type": "code",
   "execution_count": 7,
   "metadata": {
    "colab": {
     "background_save": true,
     "base_uri": "https://localhost:8080/"
    },
    "executionInfo": {
     "elapsed": 260,
     "status": "ok",
     "timestamp": 1671067110703,
     "user": {
      "displayName": "Muhammad Akbar",
      "userId": "00229604356602963247"
     },
     "user_tz": -420
    },
    "id": "G07gtCEvwFOs"
   },
   "outputs": [
    {
     "name": "stdout",
     "output_type": "stream",
     "text": [
      "<class 'pandas.core.frame.DataFrame'>\n",
      "RangeIndex: 384 entries, 0 to 383\n",
      "Data columns (total 8 columns):\n",
      " #   Column       Non-Null Count  Dtype  \n",
      "---  ------       --------------  -----  \n",
      " 0   ID           384 non-null    int64  \n",
      " 1   film         384 non-null    object \n",
      " 2   Year         370 non-null    object \n",
      " 3   Genre        377 non-null    object \n",
      " 4   RunTime      384 non-null    object \n",
      " 5   Description  384 non-null    object \n",
      " 6   IMDB_Score   384 non-null    float64\n",
      " 7   Value_IMDB   384 non-null    object \n",
      "dtypes: float64(1), int64(1), object(6)\n",
      "memory usage: 24.1+ KB\n"
     ]
    }
   ],
   "source": [
    "df.info()"
   ]
  },
  {
   "cell_type": "code",
   "execution_count": 47,
   "metadata": {},
   "outputs": [
    {
     "data": {
      "text/plain": [
       "<Axes: xlabel='Genre'>"
      ]
     },
     "execution_count": 47,
     "metadata": {},
     "output_type": "execute_result"
    },
    {
     "data": {
      "image/png": "[encoded data removed]",
      "text/plain": [
       "<Figure size 640x480 with 1 Axes>"
      ]
     },
     "metadata": {},
     "output_type": "display_data"
    }
   ],
   "source": [
    "df.groupby('Genre')['IMDB_Score'].mean().sort_values().tail(50).plot(kind='bar')"
   ]
  },
  {
   "cell_type": "code",
   "execution_count": 49,
   "metadata": {
    "colab": {
     "background_save": true,
     "base_uri": "https://localhost:8080/"
    },
    "executionInfo": {
     "elapsed": 249,
     "status": "ok",
     "timestamp": 1671067110704,
     "user": {
      "displayName": "Muhammad Akbar",
      "userId": "00229604356602963247"
     },
     "user_tz": -420
    },
    "id": "YLJ4hmLIw75s"
   },
   "outputs": [
    {
     "data": {
      "text/plain": [
       "(384, 8)"
      ]
     },
     "execution_count": 49,
     "metadata": {},
     "output_type": "execute_result"
    }
   ],
   "source": [
    "df.shape"
   ]
  },
  {
   "cell_type": "code",
   "execution_count": 9,
   "metadata": {
    "colab": {
     "background_save": true,
     "base_uri": "https://localhost:8080/"
    },
    "executionInfo": {
     "elapsed": 242,
     "status": "ok",
     "timestamp": 1671067110705,
     "user": {
      "displayName": "Muhammad Akbar",
      "userId": "00229604356602963247"
     },
     "user_tz": -420
    },
    "id": "3WdMjGfmzEzm"
   },
   "outputs": [
    {
     "data": {
      "text/plain": [
       "Index(['ID', 'film', 'Year', 'Genre', 'RunTime', 'Description', 'IMDB_Score',\n",
       "       'Value_IMDB'],\n",
       "      dtype='object')"
      ]
     },
     "execution_count": 9,
     "metadata": {},
     "output_type": "execute_result"
    }
   ],
   "source": [
    "df.columns"
   ]
  },
  {
   "cell_type": "code",
   "execution_count": 51,
   "metadata": {},
   "outputs": [
    {
     "ename": "KeyError",
     "evalue": "'Film'",
     "output_type": "error",
     "traceback": [
      "\u001b[1;31m---------------------------------------------------------------------------\u001b[0m",
      "\u001b[1;31mKeyError\u001b[0m                                  Traceback (most recent call last)",
      "File \u001b[1;32mc:\\Users\\Anna\\AppData\\Local\\Programs\\Python\\Python312\\Lib\\site-packages\\pandas\\core\\indexes\\base.py:3805\u001b[0m, in \u001b[0;36mIndex.get_loc\u001b[1;34m(self, key)\u001b[0m\n\u001b[0;32m   3804\u001b[0m \u001b[38;5;28;01mtry\u001b[39;00m:\n\u001b[1;32m-> 3805\u001b[0m     \u001b[38;5;28;01mreturn\u001b[39;00m \u001b[38;5;28;43mself\u001b[39;49m\u001b[38;5;241;43m.\u001b[39;49m\u001b[43m_engine\u001b[49m\u001b[38;5;241;43m.\u001b[39;49m\u001b[43mget_loc\u001b[49m\u001b[43m(\u001b[49m\u001b[43mcasted_key\u001b[49m\u001b[43m)\u001b[49m\n\u001b[0;32m   3806\u001b[0m \u001b[38;5;28;01mexcept\u001b[39;00m \u001b[38;5;167;01mKeyError\u001b[39;00m \u001b[38;5;28;01mas\u001b[39;00m err:\n",
      "File \u001b[1;32mindex.pyx:167\u001b[0m, in \u001b[0;36mpandas._libs.index.IndexEngine.get_loc\u001b[1;34m()\u001b[0m\n",
      "File \u001b[1;32mindex.pyx:196\u001b[0m, in \u001b[0;36mpandas._libs.index.IndexEngine.get_loc\u001b[1;34m()\u001b[0m\n",
      "File \u001b[1;32mpandas\\\\_libs\\\\hashtable_class_helper.pxi:7081\u001b[0m, in \u001b[0;36mpandas._libs.hashtable.PyObjectHashTable.get_item\u001b[1;34m()\u001b[0m\n",
      "File \u001b[1;32mpandas\\\\_libs\\\\hashtable_class_helper.pxi:7089\u001b[0m, in \u001b[0;36mpandas._libs.hashtable.PyObjectHashTable.get_item\u001b[1;34m()\u001b[0m\n",
      "\u001b[1;31mKeyError\u001b[0m: 'Film'",
      "\nThe above exception was the direct cause of the following exception:\n",
      "\u001b[1;31mKeyError\u001b[0m                                  Traceback (most recent call last)",
      "Cell \u001b[1;32mIn[51], line 42\u001b[0m\n\u001b[0;32m     40\u001b[0m       \u001b[38;5;28;01mreturn\u001b[39;00m \u001b[38;5;124m'\u001b[39m\u001b[38;5;124mDC\u001b[39m\u001b[38;5;124m'\u001b[39m\n\u001b[0;32m     41\u001b[0m df[\u001b[38;5;124m'\u001b[39m\u001b[38;5;124mCU\u001b[39m\u001b[38;5;124m'\u001b[39m]\u001b[38;5;241m=\u001b[39mdf[\u001b[38;5;124m'\u001b[39m\u001b[38;5;124mDescription\u001b[39m\u001b[38;5;124m'\u001b[39m]\u001b[38;5;241m.\u001b[39mapply(findCU)\n\u001b[1;32m---> 42\u001b[0m df[\u001b[38;5;124m'\u001b[39m\u001b[38;5;124mCU\u001b[39m\u001b[38;5;124m'\u001b[39m]\u001b[38;5;241m=\u001b[39m\u001b[43mdf\u001b[49m\u001b[43m[\u001b[49m\u001b[38;5;124;43m'\u001b[39;49m\u001b[38;5;124;43mFilm\u001b[39;49m\u001b[38;5;124;43m'\u001b[39;49m\u001b[43m]\u001b[49m\u001b[38;5;241m.\u001b[39mapply(findCU)\n\u001b[0;32m     44\u001b[0m df\u001b[38;5;241m.\u001b[39mhead(\u001b[38;5;241m5\u001b[39m)\n",
      "File \u001b[1;32mc:\\Users\\Anna\\AppData\\Local\\Programs\\Python\\Python312\\Lib\\site-packages\\pandas\\core\\frame.py:4102\u001b[0m, in \u001b[0;36mDataFrame.__getitem__\u001b[1;34m(self, key)\u001b[0m\n\u001b[0;32m   4100\u001b[0m \u001b[38;5;28;01mif\u001b[39;00m \u001b[38;5;28mself\u001b[39m\u001b[38;5;241m.\u001b[39mcolumns\u001b[38;5;241m.\u001b[39mnlevels \u001b[38;5;241m>\u001b[39m \u001b[38;5;241m1\u001b[39m:\n\u001b[0;32m   4101\u001b[0m     \u001b[38;5;28;01mreturn\u001b[39;00m \u001b[38;5;28mself\u001b[39m\u001b[38;5;241m.\u001b[39m_getitem_multilevel(key)\n\u001b[1;32m-> 4102\u001b[0m indexer \u001b[38;5;241m=\u001b[39m \u001b[38;5;28;43mself\u001b[39;49m\u001b[38;5;241;43m.\u001b[39;49m\u001b[43mcolumns\u001b[49m\u001b[38;5;241;43m.\u001b[39;49m\u001b[43mget_loc\u001b[49m\u001b[43m(\u001b[49m\u001b[43mkey\u001b[49m\u001b[43m)\u001b[49m\n\u001b[0;32m   4103\u001b[0m \u001b[38;5;28;01mif\u001b[39;00m is_integer(indexer):\n\u001b[0;32m   4104\u001b[0m     indexer \u001b[38;5;241m=\u001b[39m [indexer]\n",
      "File \u001b[1;32mc:\\Users\\Anna\\AppData\\Local\\Programs\\Python\\Python312\\Lib\\site-packages\\pandas\\core\\indexes\\base.py:3812\u001b[0m, in \u001b[0;36mIndex.get_loc\u001b[1;34m(self, key)\u001b[0m\n\u001b[0;32m   3807\u001b[0m     \u001b[38;5;28;01mif\u001b[39;00m \u001b[38;5;28misinstance\u001b[39m(casted_key, \u001b[38;5;28mslice\u001b[39m) \u001b[38;5;129;01mor\u001b[39;00m (\n\u001b[0;32m   3808\u001b[0m         \u001b[38;5;28misinstance\u001b[39m(casted_key, abc\u001b[38;5;241m.\u001b[39mIterable)\n\u001b[0;32m   3809\u001b[0m         \u001b[38;5;129;01mand\u001b[39;00m \u001b[38;5;28many\u001b[39m(\u001b[38;5;28misinstance\u001b[39m(x, \u001b[38;5;28mslice\u001b[39m) \u001b[38;5;28;01mfor\u001b[39;00m x \u001b[38;5;129;01min\u001b[39;00m casted_key)\n\u001b[0;32m   3810\u001b[0m     ):\n\u001b[0;32m   3811\u001b[0m         \u001b[38;5;28;01mraise\u001b[39;00m InvalidIndexError(key)\n\u001b[1;32m-> 3812\u001b[0m     \u001b[38;5;28;01mraise\u001b[39;00m \u001b[38;5;167;01mKeyError\u001b[39;00m(key) \u001b[38;5;28;01mfrom\u001b[39;00m \u001b[38;5;21;01merr\u001b[39;00m\n\u001b[0;32m   3813\u001b[0m \u001b[38;5;28;01mexcept\u001b[39;00m \u001b[38;5;167;01mTypeError\u001b[39;00m:\n\u001b[0;32m   3814\u001b[0m     \u001b[38;5;66;03m# If we have a listlike key, _check_indexing_error will raise\u001b[39;00m\n\u001b[0;32m   3815\u001b[0m     \u001b[38;5;66;03m#  InvalidIndexError. Otherwise we fall through and re-raise\u001b[39;00m\n\u001b[0;32m   3816\u001b[0m     \u001b[38;5;66;03m#  the TypeError.\u001b[39;00m\n\u001b[0;32m   3817\u001b[0m     \u001b[38;5;28mself\u001b[39m\u001b[38;5;241m.\u001b[39m_check_indexing_error(key)\n",
      "\u001b[1;31mKeyError\u001b[0m: 'Film'"
     ]
    }
   ],
   "source": [
    "marvel_cont=[\n",
    "    \"Iron Man\", \"Tony Stark\", \"Captain America\", \"Steve Rogers\", \"Thor\", \"Hulk\",\n",
    "    \"Bruce Banner\", \"Spider-Man\", \"Peter Parker\", \"Black Widow\", \"Natasha Romanoff\",\n",
    "    \"Doctor Strange\", \"Stephen Strange\", \"Black Panther\", \"T'Challa\", \"Ant-Man\",\n",
    "    \"Scott Lang\", \"Captain Marvel\", \"Carol Danvers\", \"Hawkeye\", \"Clint Barton\",\n",
    "    \"Scarlet Witch\", \"Wanda Maximoff\", \"Vision\", \"Loki\", \"Thanos\", \"Nick Fury\",\n",
    "    \"Star-Lord\", \"Peter Quill\", \"Gamora\", \"Rocket Raccoon\", \"Groot\", \"Deadpool\",\n",
    "    \"Wolverine\", \"Logan\", \"Silver Surfer\", \"Daredevil\", \"Matt Murdock\", \"Winter Soldier\",\n",
    "    \"Bucky Barnes\", \"Avengers\", \"Hero\", \"Villain\", \"Superpower\", \"Infinity\", \"Asgard\",\n",
    "    \"Shield\", \"Superhero\", \"Power\", \"Universe\", \"Battle\", \"Origin\", \"War\", \"Quantum\",\n",
    "    \"Multiverse\", \"Technology\", \"Transformation\", \"Alliance\", \"Legacy\", \"Time\",\n",
    "    \"Space\", \"Justice\", \"Wakanda\", \"Stark\", \"Mutant\", \"S.H.I.E.L.D.\", \"Gem\", \"Crossover\",\n",
    "    \"Team\", \"God\", \"Cosmic\", \"Destiny\", \"Drax\", \"Jessica Jones\", \"Luke Cage\",\n",
    "    \"X-Men\", \"Fantastic Four\", \"Venom\", \"Ghost Rider\", \"The Punisher\", \"The Eternals\",\n",
    "    \"Blade\", \"Hank Pym\", \"Magneto\"\n",
    "]\n",
    "\n",
    "DC_cont=[\n",
    "    \"Batman\", \"Superman\", \"Justice\", \"League\", \"Dark\", \"Knight\", \"Wonder Woman\",\n",
    "    \"Suicide Squad\", \"Man of Steel\", \"Gotham\", \"Green Lantern\", \"Flash\", \"Arrow\",\n",
    "    \"Titans\", \"Shazam\", \"Aquaman\", \"Joker\", \"Birds of Prey\", \"Vengeance\", \"Crisis\",\n",
    "    \"Return\", \"Rise\", \"Legends\", \"Hero\", \"Dawn\", \"Tomorrow\", \"Gods\", \"Power\",\n",
    "    \"World\", \"Origin\", \"Reign\", \"Son\", \"War\", \"Throne\", \"Watchmen\", \"Phantom\",\n",
    "    \"Enemy\", \"Universe\", \"Blood\", \"Redemption\", \"Doomsday\", \"Apocalypse\", \"End\",\n",
    "    \"Constantine\", \"Catwoman\", \"Jonah Hex\", \"Nightwing\", \"Robin\", \"Supergirl\",\n",
    "    \"Zatanna\", \"Swamp Thing\", \"Blue Beetle\", \"Black Adam\", \"Vixen\", \"Harley Quinn\",\n",
    "    \"Static Shock\", \"Hawkman\", \"Green Arrow\", \"Batgirl\", \"Superboy\", \"Darkseid\",\n",
    "    \"Deathstroke\", \"Lobo\", \"Spectre\", \"The Question\", \"Red Hood\", \"Lucifer\",\n",
    "    \"Steel\", \"Raven\", \"Huntress\", \"Booster Gold\", \"Mr. Terrific\", \"Black Canary\",\n",
    "    \"The Atom\", \"Martian Manhunter\", \"Dr. Fate\", \"Black Lightning\", \"Firestorm\",\n",
    "    \"Etrigan\", \"The Demon\", \"Orion\", \"Metamorpho\", \"Azrael\", \"Deadshot\",\n",
    "    \"Solomon Grundy\", \"Doctor Manhattan\"\n",
    "]\n",
    "def findCU(tittle):\n",
    "  for keyword in marvel_cont:\n",
    "    if keyword in tittle:\n",
    "      return 'Marvel'\n",
    "  for keyword in DC_cont:\n",
    "    if keyword in tittle:\n",
    "      return 'DC'\n",
    "df['CU']=df['Description'].apply(findCU)\n",
    "df['CU']=df['Film'].apply(findCU)\n",
    "\n",
    "df.head(5)"
   ]
  },
  {
   "cell_type": "code",
   "execution_count": 54,
   "metadata": {},
   "outputs": [
    {
     "data": {
      "text/plain": [
       "<Axes: xlabel='CU'>"
      ]
     },
     "execution_count": 54,
     "metadata": {},
     "output_type": "execute_result"
    },
    {
     "data": {
      "image/png": "[encoded data removed]",
      "text/plain": [
       "<Figure size 640x480 with 1 Axes>"
      ]
     },
     "metadata": {},
     "output_type": "display_data"
    }
   ],
   "source": [
    "df.groupby('CU').size().plot(kind='bar')"
   ]
  },
  {
   "cell_type": "code",
   "execution_count": 60,
   "metadata": {},
   "outputs": [
    {
     "data": {
      "text/plain": [
       "<Axes: xlabel='IMDB_Score'>"
      ]
     },
     "execution_count": 60,
     "metadata": {},
     "output_type": "execute_result"
    },
    {
     "data": {
      "image/png": "[encoded data removed]",
      "text/plain": [
       "<Figure size 640x480 with 1 Axes>"
      ]
     },
     "metadata": {},
     "output_type": "display_data"
    }
   ],
   "source": [
    "# Collect Movies/Tv shows in data which having IMBD score more than 7\n",
    "data=df[df['IMDB_Score']>7 ]\n",
    "\n",
    "\n",
    "# Display the data by making group on the basis of IMBD score and Cinematic universe\n",
    "data.groupby(['IMDB_Score', 'CU']).size().unstack().plot(kind='bar', stacked=True, color=['purple', 'pink'])"
   ]
  },
  {
   "cell_type": "code",
   "execution_count": 64,
   "metadata": {},
   "outputs": [
    {
     "data": {
      "text/plain": [
       "<Axes: xlabel='Year'>"
      ]
     },
     "execution_count": 64,
     "metadata": {},
     "output_type": "execute_result"
    },
    {
     "data": {
      "image/png": "[encoded data removed]",
      "text/plain": [
       "<Figure size 640x480 with 1 Axes>"
      ]
     },
     "metadata": {},
     "output_type": "display_data"
    }
   ],
   "source": [
    "df['Year'] = df['Year'].astype(str)\n",
    "\n",
    "# Replace unwanted characters like '(', ')', and '-' with an empty string\n",
    "df['Year'] = df['Year'].str.replace(r'[\\(\\)\\-]', '', regex=True)\n",
    "\n",
    "# Convert 'Year' back to numeric values, coercing errors into NaN, and then to integers\n",
    "df['Year'] = pd.to_numeric(df['Year'], errors='coerce').astype('Int64')\n",
    "\n",
    "data=df[(df['IMDB_Score'] > 7) & (df['Year'] > 2000) ]\n",
    "data.groupby(['Year', 'CU']).size().unstack().plot(kind='bar', stacked=True, color=['purple', 'pink'])"
   ]
  },
  {
   "cell_type": "code",
   "execution_count": 52,
   "metadata": {
    "colab": {
     "background_save": true,
     "base_uri": "https://localhost:8080/",
     "height": 300
    },
    "executionInfo": {
     "elapsed": 235,
     "status": "ok",
     "timestamp": 1671067110706,
     "user": {
      "displayName": "Muhammad Akbar",
      "userId": "00229604356602963247"
     },
     "user_tz": -420
    },
    "id": "T86XMkdDwKbJ"
   },
   "outputs": [
    {
     "data": {
      "text/html": [
       "<div>\n",
       "<style scoped>\n",
       "    .dataframe tbody tr th:only-of-type {\n",
       "        vertical-align: middle;\n",
       "    }\n",
       "\n",
       "    .dataframe tbody tr th {\n",
       "        vertical-align: top;\n",
       "    }\n",
       "\n",
       "    .dataframe thead th {\n",
       "        text-align: right;\n",
       "    }\n",
       "</style>\n",
       "<table border=\"1\" class=\"dataframe\">\n",
       "  <thead>\n",
       "    <tr style=\"text-align: right;\">\n",
       "      <th></th>\n",
       "      <th>ID</th>\n",
       "      <th>IMDB_Score</th>\n",
       "    </tr>\n",
       "  </thead>\n",
       "  <tbody>\n",
       "    <tr>\n",
       "      <th>count</th>\n",
       "      <td>384.000000</td>\n",
       "      <td>384.000000</td>\n",
       "    </tr>\n",
       "    <tr>\n",
       "      <th>mean</th>\n",
       "      <td>317.713542</td>\n",
       "      <td>5.885417</td>\n",
       "    </tr>\n",
       "    <tr>\n",
       "      <th>std</th>\n",
       "      <td>230.446181</td>\n",
       "      <td>2.515185</td>\n",
       "    </tr>\n",
       "    <tr>\n",
       "      <th>min</th>\n",
       "      <td>0.000000</td>\n",
       "      <td>0.000000</td>\n",
       "    </tr>\n",
       "    <tr>\n",
       "      <th>25%</th>\n",
       "      <td>95.750000</td>\n",
       "      <td>5.775000</td>\n",
       "    </tr>\n",
       "    <tr>\n",
       "      <th>50%</th>\n",
       "      <td>405.500000</td>\n",
       "      <td>6.700000</td>\n",
       "    </tr>\n",
       "    <tr>\n",
       "      <th>75%</th>\n",
       "      <td>501.250000</td>\n",
       "      <td>7.300000</td>\n",
       "    </tr>\n",
       "    <tr>\n",
       "      <th>max</th>\n",
       "      <td>1556.000000</td>\n",
       "      <td>9.500000</td>\n",
       "    </tr>\n",
       "  </tbody>\n",
       "</table>\n",
       "</div>"
      ],
      "text/plain": [
       "                ID  IMDB_Score\n",
       "count   384.000000  384.000000\n",
       "mean    317.713542    5.885417\n",
       "std     230.446181    2.515185\n",
       "min       0.000000    0.000000\n",
       "25%      95.750000    5.775000\n",
       "50%     405.500000    6.700000\n",
       "75%     501.250000    7.300000\n",
       "max    1556.000000    9.500000"
      ]
     },
     "execution_count": 52,
     "metadata": {},
     "output_type": "execute_result"
    }
   ],
   "source": [
    "df.describe()"
   ]
  },
  {
   "cell_type": "code",
   "execution_count": 53,
   "metadata": {
    "colab": {
     "background_save": true,
     "base_uri": "https://localhost:8080/"
    },
    "executionInfo": {
     "elapsed": 228,
     "status": "ok",
     "timestamp": 1671067110707,
     "user": {
      "displayName": "Muhammad Akbar",
      "userId": "00229604356602963247"
     },
     "user_tz": -420
    },
    "id": "sCB0gWTzzK_9"
   },
   "outputs": [
    {
     "data": {
      "text/plain": [
       "ID             384\n",
       "film           290\n",
       "Year           134\n",
       "Genre           81\n",
       "RunTime        108\n",
       "Description    359\n",
       "IMDB_Score      50\n",
       "Value_IMDB       3\n",
       "CU               2\n",
       "dtype: int64"
      ]
     },
     "execution_count": 53,
     "metadata": {},
     "output_type": "execute_result"
    }
   ],
   "source": [
    "df.nunique()"
   ]
  },
  {
   "cell_type": "code",
   "execution_count": 13,
   "metadata": {
    "colab": {
     "background_save": true
    },
    "executionInfo": {
     "elapsed": 213,
     "status": "ok",
     "timestamp": 1671067110709,
     "user": {
      "displayName": "Muhammad Akbar",
      "userId": "00229604356602963247"
     },
     "user_tz": -420
    },
    "id": "AMGXvz-lkLCd"
   },
   "outputs": [],
   "source": [
    "df_copy=df"
   ]
  },
  {
   "cell_type": "code",
   "execution_count": 14,
   "metadata": {
    "colab": {
     "background_save": true,
     "base_uri": "https://localhost:8080/",
     "height": 458
    },
    "executionInfo": {
     "elapsed": 216,
     "status": "ok",
     "timestamp": 1671067110715,
     "user": {
      "displayName": "Muhammad Akbar",
      "userId": "00229604356602963247"
     },
     "user_tz": -420
    },
    "id": "hiSCTfBjltAC"
   },
   "outputs": [
    {
     "data": {
      "text/html": [
       "<div>\n",
       "<style scoped>\n",
       "    .dataframe tbody tr th:only-of-type {\n",
       "        vertical-align: middle;\n",
       "    }\n",
       "\n",
       "    .dataframe tbody tr th {\n",
       "        vertical-align: top;\n",
       "    }\n",
       "\n",
       "    .dataframe thead th {\n",
       "        text-align: right;\n",
       "    }\n",
       "</style>\n",
       "<table border=\"1\" class=\"dataframe\">\n",
       "  <thead>\n",
       "    <tr style=\"text-align: right;\">\n",
       "      <th></th>\n",
       "      <th>ID</th>\n",
       "      <th>film</th>\n",
       "      <th>Year</th>\n",
       "      <th>Genre</th>\n",
       "      <th>RunTime</th>\n",
       "      <th>Description</th>\n",
       "      <th>IMDB_Score</th>\n",
       "      <th>Value_IMDB</th>\n",
       "    </tr>\n",
       "  </thead>\n",
       "  <tbody>\n",
       "    <tr>\n",
       "      <th>0</th>\n",
       "      <td>0</td>\n",
       "      <td>Eternals</td>\n",
       "      <td>-2021</td>\n",
       "      <td>Action,Adventure,Drama</td>\n",
       "      <td>0</td>\n",
       "      <td>The saga of the Eternals, a race of immortal b...</td>\n",
       "      <td>0.0</td>\n",
       "      <td>Bad</td>\n",
       "    </tr>\n",
       "    <tr>\n",
       "      <th>1</th>\n",
       "      <td>1</td>\n",
       "      <td>Loki</td>\n",
       "      <td>(2021–2023)</td>\n",
       "      <td>Action,Adventure,Fantasy</td>\n",
       "      <td>0</td>\n",
       "      <td>A new Marvel chapter with Loki at its center.</td>\n",
       "      <td>0.0</td>\n",
       "      <td>Bad</td>\n",
       "    </tr>\n",
       "    <tr>\n",
       "      <th>2</th>\n",
       "      <td>2</td>\n",
       "      <td>The Falcon and the Winter Soldier</td>\n",
       "      <td>-2021</td>\n",
       "      <td>Action,Adventure,Drama</td>\n",
       "      <td>50 min</td>\n",
       "      <td>Following the events of 'Avengers: Endgame,' S...</td>\n",
       "      <td>7.5</td>\n",
       "      <td>Good</td>\n",
       "    </tr>\n",
       "    <tr>\n",
       "      <th>3</th>\n",
       "      <td>3</td>\n",
       "      <td>WandaVision</td>\n",
       "      <td>(2021)</td>\n",
       "      <td>Action,Comedy,Drama</td>\n",
       "      <td>350 min</td>\n",
       "      <td>Blends the style of classic sitcoms with the M...</td>\n",
       "      <td>8.1</td>\n",
       "      <td>Good</td>\n",
       "    </tr>\n",
       "    <tr>\n",
       "      <th>4</th>\n",
       "      <td>4</td>\n",
       "      <td>Spider-Man: No Way Home</td>\n",
       "      <td>-2021</td>\n",
       "      <td>Action,Adventure,Sci-Fi</td>\n",
       "      <td>0</td>\n",
       "      <td>A continuation of Spider-Man: Far From Home.</td>\n",
       "      <td>0.0</td>\n",
       "      <td>Bad</td>\n",
       "    </tr>\n",
       "  </tbody>\n",
       "</table>\n",
       "</div>"
      ],
      "text/plain": [
       "   ID                               film         Year  \\\n",
       "0   0                           Eternals        -2021   \n",
       "1   1                               Loki  (2021–2023)   \n",
       "2   2  The Falcon and the Winter Soldier        -2021   \n",
       "3   3                        WandaVision       (2021)   \n",
       "4   4            Spider-Man: No Way Home        -2021   \n",
       "\n",
       "                      Genre  RunTime  \\\n",
       "0    Action,Adventure,Drama        0   \n",
       "1  Action,Adventure,Fantasy        0   \n",
       "2    Action,Adventure,Drama   50 min   \n",
       "3       Action,Comedy,Drama  350 min   \n",
       "4   Action,Adventure,Sci-Fi        0   \n",
       "\n",
       "                                         Description  IMDB_Score Value_IMDB  \n",
       "0  The saga of the Eternals, a race of immortal b...         0.0        Bad  \n",
       "1      A new Marvel chapter with Loki at its center.         0.0        Bad  \n",
       "2  Following the events of 'Avengers: Endgame,' S...         7.5       Good  \n",
       "3  Blends the style of classic sitcoms with the M...         8.1       Good  \n",
       "4       A continuation of Spider-Man: Far From Home.         0.0        Bad  "
      ]
     },
     "execution_count": 14,
     "metadata": {},
     "output_type": "execute_result"
    }
   ],
   "source": [
    "df_copy.head()"
   ]
  },
  {
   "cell_type": "code",
   "execution_count": 17,
   "metadata": {
    "colab": {
     "background_save": true,
     "base_uri": "https://localhost:8080/"
    },
    "executionInfo": {
     "elapsed": 227,
     "status": "ok",
     "timestamp": 1671067110731,
     "user": {
      "displayName": "Muhammad Akbar",
      "userId": "00229604356602963247"
     },
     "user_tz": -420
    },
    "id": "rzg69PhdkV5W"
   },
   "outputs": [
    {
     "name": "stdout",
     "output_type": "stream",
     "text": [
      "<class 'pandas.core.frame.DataFrame'>\n",
      "RangeIndex: 384 entries, 0 to 383\n",
      "Data columns (total 8 columns):\n",
      " #   Column       Non-Null Count  Dtype  \n",
      "---  ------       --------------  -----  \n",
      " 0   ID           384 non-null    int64  \n",
      " 1   film         384 non-null    object \n",
      " 2   Year         370 non-null    object \n",
      " 3   Genre        377 non-null    object \n",
      " 4   RunTime      384 non-null    object \n",
      " 5   Description  384 non-null    object \n",
      " 6   IMDB_Score   384 non-null    float64\n",
      " 7   Value_IMDB   384 non-null    object \n",
      "dtypes: float64(1), int64(1), object(6)\n",
      "memory usage: 24.1+ KB\n"
     ]
    }
   ],
   "source": [
    "df_copy.info()"
   ]
  },
  {
   "cell_type": "code",
   "execution_count": 65,
   "metadata": {
    "colab": {
     "background_save": true,
     "base_uri": "https://localhost:8080/",
     "height": 458
    },
    "executionInfo": {
     "elapsed": 219,
     "status": "ok",
     "timestamp": 1671067110734,
     "user": {
      "displayName": "Muhammad Akbar",
      "userId": "00229604356602963247"
     },
     "user_tz": -420
    },
    "id": "Pom6ktN6ch7W"
   },
   "outputs": [
    {
     "data": {
      "text/html": [
       "<div>\n",
       "<style scoped>\n",
       "    .dataframe tbody tr th:only-of-type {\n",
       "        vertical-align: middle;\n",
       "    }\n",
       "\n",
       "    .dataframe tbody tr th {\n",
       "        vertical-align: top;\n",
       "    }\n",
       "\n",
       "    .dataframe thead th {\n",
       "        text-align: right;\n",
       "    }\n",
       "</style>\n",
       "<table border=\"1\" class=\"dataframe\">\n",
       "  <thead>\n",
       "    <tr style=\"text-align: right;\">\n",
       "      <th></th>\n",
       "      <th>ID</th>\n",
       "      <th>film</th>\n",
       "      <th>Year</th>\n",
       "      <th>Genre</th>\n",
       "      <th>RunTime</th>\n",
       "      <th>Description</th>\n",
       "      <th>IMDB_Score</th>\n",
       "      <th>Value_IMDB</th>\n",
       "      <th>CU</th>\n",
       "    </tr>\n",
       "  </thead>\n",
       "  <tbody>\n",
       "    <tr>\n",
       "      <th>0</th>\n",
       "      <td>0</td>\n",
       "      <td>Eternals</td>\n",
       "      <td>2021</td>\n",
       "      <td>Action,Adventure,Drama</td>\n",
       "      <td>0</td>\n",
       "      <td>The saga of the Eternals, a race of immortal b...</td>\n",
       "      <td>0.0</td>\n",
       "      <td>Bad</td>\n",
       "      <td>None</td>\n",
       "    </tr>\n",
       "    <tr>\n",
       "      <th>1</th>\n",
       "      <td>1</td>\n",
       "      <td>Loki</td>\n",
       "      <td>&lt;NA&gt;</td>\n",
       "      <td>Action,Adventure,Fantasy</td>\n",
       "      <td>0</td>\n",
       "      <td>A new Marvel chapter with Loki at its center.</td>\n",
       "      <td>0.0</td>\n",
       "      <td>Bad</td>\n",
       "      <td>Marvel</td>\n",
       "    </tr>\n",
       "    <tr>\n",
       "      <th>2</th>\n",
       "      <td>2</td>\n",
       "      <td>The Falcon and the Winter Soldier</td>\n",
       "      <td>2021</td>\n",
       "      <td>Action,Adventure,Drama</td>\n",
       "      <td>50 min</td>\n",
       "      <td>Following the events of 'Avengers: Endgame,' S...</td>\n",
       "      <td>7.5</td>\n",
       "      <td>Good</td>\n",
       "      <td>Marvel</td>\n",
       "    </tr>\n",
       "    <tr>\n",
       "      <th>3</th>\n",
       "      <td>3</td>\n",
       "      <td>WandaVision</td>\n",
       "      <td>2021</td>\n",
       "      <td>Action,Comedy,Drama</td>\n",
       "      <td>350 min</td>\n",
       "      <td>Blends the style of classic sitcoms with the M...</td>\n",
       "      <td>8.1</td>\n",
       "      <td>Good</td>\n",
       "      <td>Marvel</td>\n",
       "    </tr>\n",
       "    <tr>\n",
       "      <th>4</th>\n",
       "      <td>4</td>\n",
       "      <td>Spider-Man: No Way Home</td>\n",
       "      <td>2021</td>\n",
       "      <td>Action,Adventure,Sci-Fi</td>\n",
       "      <td>0</td>\n",
       "      <td>A continuation of Spider-Man: Far From Home.</td>\n",
       "      <td>0.0</td>\n",
       "      <td>Bad</td>\n",
       "      <td>Marvel</td>\n",
       "    </tr>\n",
       "  </tbody>\n",
       "</table>\n",
       "</div>"
      ],
      "text/plain": [
       "   ID                               film  Year                     Genre  \\\n",
       "0   0                           Eternals  2021    Action,Adventure,Drama   \n",
       "1   1                               Loki  <NA>  Action,Adventure,Fantasy   \n",
       "2   2  The Falcon and the Winter Soldier  2021    Action,Adventure,Drama   \n",
       "3   3                        WandaVision  2021       Action,Comedy,Drama   \n",
       "4   4            Spider-Man: No Way Home  2021   Action,Adventure,Sci-Fi   \n",
       "\n",
       "   RunTime                                        Description  IMDB_Score  \\\n",
       "0        0  The saga of the Eternals, a race of immortal b...         0.0   \n",
       "1        0      A new Marvel chapter with Loki at its center.         0.0   \n",
       "2   50 min  Following the events of 'Avengers: Endgame,' S...         7.5   \n",
       "3  350 min  Blends the style of classic sitcoms with the M...         8.1   \n",
       "4        0       A continuation of Spider-Man: Far From Home.         0.0   \n",
       "\n",
       "  Value_IMDB      CU  \n",
       "0        Bad    None  \n",
       "1        Bad  Marvel  \n",
       "2       Good  Marvel  \n",
       "3       Good  Marvel  \n",
       "4        Bad  Marvel  "
      ]
     },
     "execution_count": 65,
     "metadata": {},
     "output_type": "execute_result"
    }
   ],
   "source": [
    "df_update = df.copy()\n",
    "df_update['IMDB_Score'] = df_update['IMDB_Score'].fillna(df_update['IMDB_Score'].median())\n",
    "df_update.head()"
   ]
  },
  {
   "cell_type": "code",
   "execution_count": 66,
   "metadata": {
    "colab": {
     "background_save": true,
     "base_uri": "https://localhost:8080/"
    },
    "executionInfo": {
     "elapsed": 216,
     "status": "ok",
     "timestamp": 1671067110735,
     "user": {
      "displayName": "Muhammad Akbar",
      "userId": "00229604356602963247"
     },
     "user_tz": -420
    },
    "id": "4DR4OeUCc73U"
   },
   "outputs": [
    {
     "name": "stdout",
     "output_type": "stream",
     "text": [
      "<class 'pandas.core.frame.DataFrame'>\n",
      "RangeIndex: 384 entries, 0 to 383\n",
      "Data columns (total 9 columns):\n",
      " #   Column       Non-Null Count  Dtype  \n",
      "---  ------       --------------  -----  \n",
      " 0   ID           384 non-null    int64  \n",
      " 1   film         384 non-null    object \n",
      " 2   Year         115 non-null    Int64  \n",
      " 3   Genre        377 non-null    object \n",
      " 4   RunTime      384 non-null    object \n",
      " 5   Description  384 non-null    object \n",
      " 6   IMDB_Score   384 non-null    float64\n",
      " 7   Value_IMDB   384 non-null    object \n",
      " 8   CU           218 non-null    object \n",
      "dtypes: Int64(1), float64(1), int64(1), object(6)\n",
      "memory usage: 27.5+ KB\n"
     ]
    }
   ],
   "source": [
    "df_update.info()"
   ]
  },
  {
   "cell_type": "code",
   "execution_count": 44,
   "metadata": {
    "colab": {
     "background_save": true
    },
    "executionInfo": {
     "elapsed": 211,
     "status": "ok",
     "timestamp": 1671067110737,
     "user": {
      "displayName": "Muhammad Akbar",
      "userId": "00229604356602963247"
     },
     "user_tz": -420
    },
    "id": "7jXa8RleU6K9"
   },
   "outputs": [],
   "source": [
    "def f(columns):\n",
    "    if columns['IMDB_Score']>=8.5:\n",
    "        return 'Very Good'\n",
    "    elif columns['IMDB_Score']>=7.0:\n",
    "        return 'Good'\n",
    "    else:\n",
    "        return 'Bad'"
   ]
  },
  {
   "cell_type": "code",
   "execution_count": 45,
   "metadata": {
    "colab": {
     "background_save": true,
     "base_uri": "https://localhost:8080/",
     "height": 1000
    },
    "executionInfo": {
     "elapsed": 210,
     "status": "ok",
     "timestamp": 1671067110738,
     "user": {
      "displayName": "Muhammad Akbar",
      "userId": "00229604356602963247"
     },
     "user_tz": -420
    },
    "id": "cUBFitkRavaQ"
   },
   "outputs": [
    {
     "data": {
      "text/html": [
       "<div>\n",
       "<style scoped>\n",
       "    .dataframe tbody tr th:only-of-type {\n",
       "        vertical-align: middle;\n",
       "    }\n",
       "\n",
       "    .dataframe tbody tr th {\n",
       "        vertical-align: top;\n",
       "    }\n",
       "\n",
       "    .dataframe thead th {\n",
       "        text-align: right;\n",
       "    }\n",
       "</style>\n",
       "<table border=\"1\" class=\"dataframe\">\n",
       "  <thead>\n",
       "    <tr style=\"text-align: right;\">\n",
       "      <th></th>\n",
       "      <th>ID</th>\n",
       "      <th>film</th>\n",
       "      <th>Year</th>\n",
       "      <th>Genre</th>\n",
       "      <th>RunTime</th>\n",
       "      <th>Description</th>\n",
       "      <th>IMDB_Score</th>\n",
       "      <th>Value_IMDB</th>\n",
       "    </tr>\n",
       "  </thead>\n",
       "  <tbody>\n",
       "    <tr>\n",
       "      <th>0</th>\n",
       "      <td>0</td>\n",
       "      <td>Eternals</td>\n",
       "      <td>-2021</td>\n",
       "      <td>Action,Adventure,Drama</td>\n",
       "      <td>0</td>\n",
       "      <td>The saga of the Eternals, a race of immortal b...</td>\n",
       "      <td>0.0</td>\n",
       "      <td>Bad</td>\n",
       "    </tr>\n",
       "    <tr>\n",
       "      <th>1</th>\n",
       "      <td>1</td>\n",
       "      <td>Loki</td>\n",
       "      <td>(2021–2023)</td>\n",
       "      <td>Action,Adventure,Fantasy</td>\n",
       "      <td>0</td>\n",
       "      <td>A new Marvel chapter with Loki at its center.</td>\n",
       "      <td>0.0</td>\n",
       "      <td>Bad</td>\n",
       "    </tr>\n",
       "    <tr>\n",
       "      <th>2</th>\n",
       "      <td>2</td>\n",
       "      <td>The Falcon and the Winter Soldier</td>\n",
       "      <td>-2021</td>\n",
       "      <td>Action,Adventure,Drama</td>\n",
       "      <td>50 min</td>\n",
       "      <td>Following the events of 'Avengers: Endgame,' S...</td>\n",
       "      <td>7.5</td>\n",
       "      <td>Good</td>\n",
       "    </tr>\n",
       "    <tr>\n",
       "      <th>3</th>\n",
       "      <td>3</td>\n",
       "      <td>WandaVision</td>\n",
       "      <td>(2021)</td>\n",
       "      <td>Action,Comedy,Drama</td>\n",
       "      <td>350 min</td>\n",
       "      <td>Blends the style of classic sitcoms with the M...</td>\n",
       "      <td>8.1</td>\n",
       "      <td>Good</td>\n",
       "    </tr>\n",
       "    <tr>\n",
       "      <th>4</th>\n",
       "      <td>4</td>\n",
       "      <td>Spider-Man: No Way Home</td>\n",
       "      <td>-2021</td>\n",
       "      <td>Action,Adventure,Sci-Fi</td>\n",
       "      <td>0</td>\n",
       "      <td>A continuation of Spider-Man: Far From Home.</td>\n",
       "      <td>0.0</td>\n",
       "      <td>Bad</td>\n",
       "    </tr>\n",
       "    <tr>\n",
       "      <th>...</th>\n",
       "      <td>...</td>\n",
       "      <td>...</td>\n",
       "      <td>...</td>\n",
       "      <td>...</td>\n",
       "      <td>...</td>\n",
       "      <td>...</td>\n",
       "      <td>...</td>\n",
       "      <td>...</td>\n",
       "    </tr>\n",
       "    <tr>\n",
       "      <th>379</th>\n",
       "      <td>1023</td>\n",
       "      <td>Krypto the Superdog</td>\n",
       "      <td>(2005–2006)</td>\n",
       "      <td>Animation,Action,Comedy</td>\n",
       "      <td>24 min</td>\n",
       "      <td>The Dog Stars argue as to who should take over...</td>\n",
       "      <td>8.4</td>\n",
       "      <td>Good</td>\n",
       "    </tr>\n",
       "    <tr>\n",
       "      <th>380</th>\n",
       "      <td>1024</td>\n",
       "      <td>Smallville</td>\n",
       "      <td>(2001–2011)</td>\n",
       "      <td>Adventure,Drama,Romance</td>\n",
       "      <td>43 min</td>\n",
       "      <td>Lionel Luthor is chased by a man with a mask a...</td>\n",
       "      <td>8.5</td>\n",
       "      <td>Very Good</td>\n",
       "    </tr>\n",
       "    <tr>\n",
       "      <th>381</th>\n",
       "      <td>1025</td>\n",
       "      <td>Krypto the Superdog</td>\n",
       "      <td>(2005–2006)</td>\n",
       "      <td>Animation,Action,Comedy</td>\n",
       "      <td>22 min</td>\n",
       "      <td>Krypto tells the story about how he arrived on...</td>\n",
       "      <td>7.3</td>\n",
       "      <td>Good</td>\n",
       "    </tr>\n",
       "    <tr>\n",
       "      <th>382</th>\n",
       "      <td>1271</td>\n",
       "      <td>Legends of the Superheroes</td>\n",
       "      <td>-1979</td>\n",
       "      <td>Action,Comedy,Adventure</td>\n",
       "      <td>0</td>\n",
       "      <td>Ed McMahon hosts this special gathering in whi...</td>\n",
       "      <td>5.7</td>\n",
       "      <td>Bad</td>\n",
       "    </tr>\n",
       "    <tr>\n",
       "      <th>383</th>\n",
       "      <td>1556</td>\n",
       "      <td>DC Super Hero Girls</td>\n",
       "      <td>(2015–2018)</td>\n",
       "      <td>Animation,Short,Action</td>\n",
       "      <td>0</td>\n",
       "      <td>Jessica faces her fears as she takes on Sinestro.</td>\n",
       "      <td>0.0</td>\n",
       "      <td>Bad</td>\n",
       "    </tr>\n",
       "  </tbody>\n",
       "</table>\n",
       "<p>384 rows × 8 columns</p>\n",
       "</div>"
      ],
      "text/plain": [
       "       ID                               film         Year  \\\n",
       "0       0                           Eternals        -2021   \n",
       "1       1                               Loki  (2021–2023)   \n",
       "2       2  The Falcon and the Winter Soldier        -2021   \n",
       "3       3                        WandaVision       (2021)   \n",
       "4       4            Spider-Man: No Way Home        -2021   \n",
       "..    ...                                ...          ...   \n",
       "379  1023                Krypto the Superdog  (2005–2006)   \n",
       "380  1024                         Smallville  (2001–2011)   \n",
       "381  1025                Krypto the Superdog  (2005–2006)   \n",
       "382  1271         Legends of the Superheroes        -1979   \n",
       "383  1556                DC Super Hero Girls  (2015–2018)   \n",
       "\n",
       "                        Genre  RunTime  \\\n",
       "0      Action,Adventure,Drama        0   \n",
       "1    Action,Adventure,Fantasy        0   \n",
       "2      Action,Adventure,Drama   50 min   \n",
       "3         Action,Comedy,Drama  350 min   \n",
       "4     Action,Adventure,Sci-Fi        0   \n",
       "..                        ...      ...   \n",
       "379   Animation,Action,Comedy   24 min   \n",
       "380   Adventure,Drama,Romance   43 min   \n",
       "381   Animation,Action,Comedy   22 min   \n",
       "382   Action,Comedy,Adventure        0   \n",
       "383    Animation,Short,Action        0   \n",
       "\n",
       "                                           Description  IMDB_Score Value_IMDB  \n",
       "0    The saga of the Eternals, a race of immortal b...         0.0        Bad  \n",
       "1        A new Marvel chapter with Loki at its center.         0.0        Bad  \n",
       "2    Following the events of 'Avengers: Endgame,' S...         7.5       Good  \n",
       "3    Blends the style of classic sitcoms with the M...         8.1       Good  \n",
       "4         A continuation of Spider-Man: Far From Home.         0.0        Bad  \n",
       "..                                                 ...         ...        ...  \n",
       "379  The Dog Stars argue as to who should take over...         8.4       Good  \n",
       "380  Lionel Luthor is chased by a man with a mask a...         8.5  Very Good  \n",
       "381  Krypto tells the story about how he arrived on...         7.3       Good  \n",
       "382  Ed McMahon hosts this special gathering in whi...         5.7        Bad  \n",
       "383  Jessica faces her fears as she takes on Sinestro.         0.0        Bad  \n",
       "\n",
       "[384 rows x 8 columns]"
      ]
     },
     "execution_count": 45,
     "metadata": {},
     "output_type": "execute_result"
    }
   ],
   "source": [
    "df_update['Value_IMDB'] = df.apply(f,axis=1)\n",
    "df_update"
   ]
  },
  {
   "cell_type": "code",
   "execution_count": 46,
   "metadata": {
    "colab": {
     "background_save": true
    },
    "executionInfo": {
     "elapsed": 340,
     "status": "ok",
     "timestamp": 1671067340960,
     "user": {
      "displayName": "Muhammad Akbar",
      "userId": "00229604356602963247"
     },
     "user_tz": -420
    },
    "id": "hs4FuDY5344v"
   },
   "outputs": [],
   "source": [
    "df_update.to_csv(r'marvel_fix.csv',index = False)"
   ]
  }
 ],
 "metadata": {
  "colab": {
   "authorship_tag": "ABX9TyOpveX2M+VY3VADuSL+sgmK",
   "name": "",
   "version": ""
  },
  "kernelspec": {
   "display_name": "Python 3",
   "name": "python3"
  },
  "language_info": {
   "codemirror_mode": {
    "name": "ipython",
    "version": 3
   },
   "file_extension": ".py",
   "mimetype": "text/x-python",
   "name": "python",
   "nbconvert_exporter": "python",
   "pygments_lexer": "ipython3",
   "version": "3.12.7"
  }
 },
 "nbformat": 4,
 "nbformat_minor": 0
}
