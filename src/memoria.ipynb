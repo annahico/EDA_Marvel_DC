{
 "cells": [
  {
   "cell_type": "markdown",
   "metadata": {},
   "source": [
    "\n",
    "---\n",
    "\n",
    "### **Consejos adicionales**\n",
    "- **Commit frecuente en GitHub:**  \n",
    "  Subir tus avances regularmente te ayudará a mantener un historial de cambios y evitar la pérdida de datos.  \n",
    "\n",
    "- **Visualización:**  \n",
    "  Dedica tiempo a hacer gráficos claros y atractivos; esto hará que tu presentación final destaque.  \n",
    "\n",
    "Si necesitas ayuda con algún punto más específico (código, configuración, etc.), no dudes en preguntarme. 😊\n"
   ]
  }
 ],
 "metadata": {
  "language_info": {
   "name": "python"
  }
 },
 "nbformat": 4,
 "nbformat_minor": 2
}
