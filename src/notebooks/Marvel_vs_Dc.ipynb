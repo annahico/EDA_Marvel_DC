{
 "cells": [
  {
   "cell_type": "markdown",
   "metadata": {},
   "source": [
    "# Marvel vs DC: Exploratory Data Analysis (EDA)\n"
   ]
  },
  {
   "cell_type": "markdown",
   "metadata": {},
   "source": [
    "### Introducción\n",
    "Este notebook analiza los datos de las franquicias de Marvel y DC para identificar patrones y realizar comparaciones clave. El objetivo es entender cómo diferentes factores influyen en el éxito de sus películas y series."
   ]
  },
  {
   "cell_type": "markdown",
   "metadata": {},
   "source": [
    "### Contexto\n",
    "Las franquicias de Marvel y DC son dos de las más grandes en la industria del entretenimiento. Este análisis busca responder preguntas como:\n",
    "- ¿Cuál de las dos tiene mejores calificaciones promedio?\n",
    "- ¿Cómo varían los géneros entre Marvel y DC?"
   ]
  },
  {
   "cell_type": "markdown",
   "metadata": {},
   "source": [
    "### Hipótesis\n",
    "1. Las películas de Marvel tienen una puntuación promedio en IMDb mayor que las de DC.\n",
    "2. Los géneros más populares son consistentes entre ambas franquicias."
   ]
  },
  {
   "cell_type": "markdown",
   "metadata": {},
   "source": [
    "#### 1. Importación de Librerías"
   ]
  },
  {
   "cell_type": "code",
   "execution_count": 2,
   "metadata": {
    "colab": {
     "background_save": true
    },
    "executionInfo": {
     "elapsed": 374,
     "status": "ok",
     "timestamp": 1671067107244,
     "user": {
      "displayName": "Muhammad Akbar",
      "userId": "00229604356602963247"
     },
     "user_tz": -420
    },
    "id": "vkAz8Se_vse3"
   },
   "outputs": [],
   "source": [
    "import bs4 as bs\n",
    "import urllib.request\n",
    "import pandas as pd\n",
    "import numpy as np\n",
    "import seaborn as sns\n",
    "import re\n",
    "from pandas import DataFrame\n",
    "import matplotlib.pyplot as plt\n",
    "# from nltk import flatten\n",
    "sns.set()\n",
    "%matplotlib inline"
   ]
  },
  {
   "cell_type": "code",
   "execution_count": 3,
   "metadata": {},
   "outputs": [],
   "source": [
    "# Configuraciones de visualización\n",
    "sns.set(style=\"whitegrid\")\n",
    "plt.rcParams['figure.figsize'] = (10, 6)"
   ]
  },
  {
   "cell_type": "markdown",
   "metadata": {},
   "source": [
    "####  2. Extracción de datos para la lista de películas de acción real basadas en publicaciones de Marvel Comics"
   ]
  },
  {
   "cell_type": "code",
   "execution_count": 4,
   "metadata": {
    "colab": {
     "background_save": true
    },
    "executionInfo": {
     "elapsed": 269,
     "status": "ok",
     "timestamp": 1671067110701,
     "user": {
      "displayName": "Muhammad Akbar",
      "userId": "00229604356602963247"
     },
     "user_tz": -420
    },
    "id": "PcmA63R6v1Dy"
   },
   "outputs": [],
   "source": [
    "sauce1 = urllib.request.urlopen(\"https://en.wikipedia.org/wiki/List_of_films_based_on_Marvel_Comics_publications\")\n",
    "soup1 = bs.BeautifulSoup(sauce1, 'lxml')"
   ]
  },
  {
   "cell_type": "markdown",
   "metadata": {},
   "source": [
    "Extracción de los nombres de las columnas"
   ]
  },
  {
   "cell_type": "code",
   "execution_count": 6,
   "metadata": {},
   "outputs": [
    {
     "data": {
      "text/plain": [
       "['Year', 'Title', 'Production studio(s)', 'Notes', 'Upcoming']"
      ]
     },
     "execution_count": 6,
     "metadata": {},
     "output_type": "execute_result"
    }
   ],
   "source": [
    "table1 = soup1.find('table')\n",
    "tbody1 = table1.select(\"tbody\")\n",
    "th1 = table1.select(\"th\")\n",
    "column_names1 = [str(c.string).strip() for c in th1]\n",
    "column_names1"
   ]
  },
  {
   "cell_type": "markdown",
   "metadata": {},
   "source": [
    "Extracción de datos de filas"
   ]
  },
  {
   "cell_type": "code",
   "execution_count": 8,
   "metadata": {},
   "outputs": [],
   "source": [
    "# Encontrar todas las filas de la tabla y excluir las innecesarias\n",
    "table_rows1 = table1.find_all('tr')[1:61]\n",
    "\n",
    "# Manteniéndolos en una lista con todos los datos de la tabla\n",
    "row_list1 = []\n",
    "for tr1 in table_rows1:\n",
    "    td1 = tr1.find_all('td')\n",
    "    row1 = [str(i1.get_text()).strip() for i1 in td1]\n",
    "\n",
    "    # Intentando encontrar valores de Año en cadenas y convertirlos a números enteros\n",
    "    if len(row1) > 0 and len(row1[0]) == 4:\n",
    "        try:\n",
    "            row1[0] = int(row1[0])\n",
    "        except:\n",
    "            continue\n",
    "    row_list1.append(row1)\n",
    "\n",
    "# Se corrige el intervalo de filas obtenido de HTML. También se limpian y reemplazan las filas con los valores adecuados\n",
    "row_list_marvel = []\n",
    "for b1 in row_list1:\n",
    "    if isinstance(b1[0], str) and len(b1) == 3:\n",
    "        b1.insert(0, '')\n",
    "    if isinstance(b1[0], str) and len(b1) == 2:\n",
    "        b1.insert(0, '')\n",
    "        b1.insert(1, '')\n",
    "    if len(b1) > 1 and b1[1] == '':\n",
    "        try:\n",
    "            b1[1] = b1[2]\n",
    "            b1[2] = \"\"\n",
    "        except:\n",
    "            continue\n",
    "    if len(b1) == 3:\n",
    "        b1.append('None')\n",
    "    row_list_marvel.append(b1)"
   ]
  },
  {
   "cell_type": "markdown",
   "metadata": {},
   "source": [
    "Limpieza y Preprocesamiento"
   ]
  },
  {
   "cell_type": "code",
   "execution_count": 13,
   "metadata": {
    "colab": {
     "background_save": true,
     "base_uri": "https://localhost:8080/"
    },
    "executionInfo": {
     "elapsed": 220,
     "status": "ok",
     "timestamp": 1671067110708,
     "user": {
      "displayName": "Muhammad Akbar",
      "userId": "00229604356602963247"
     },
     "user_tz": -420
    },
    "id": "jdQrHxn2zQOo"
   },
   "outputs": [
    {
     "name": "stderr",
     "output_type": "stream",
     "text": [
      "C:\\Users\\Anna\\AppData\\Local\\Temp\\ipykernel_1640\\1977526810.py:8: FutureWarning: Series.fillna with 'method' is deprecated and will raise in a future version. Use obj.ffill() or obj.bfill() instead.\n",
      "  df1['Year'] = df1['Year'].fillna(method='ffill')\n",
      "C:\\Users\\Anna\\AppData\\Local\\Temp\\ipykernel_1640\\1977526810.py:23: FutureWarning: Series.fillna with 'method' is deprecated and will raise in a future version. Use obj.ffill() or obj.bfill() instead.\n",
      "  df1['Production studio(s)'] = df1['Production studio(s)'].fillna(method='ffill')\n"
     ]
    }
   ],
   "source": [
    "# Convertir la lista en un marco de datos\n",
    "df1 = pd.DataFrame(row_list_marvel, columns=column_names1[:4])\n",
    "\n",
    "# Reemplazar nuevos valores faltantes con NaN\n",
    "df1['Year'] = df1['Year'].replace('', np.nan)\n",
    "\n",
    "# Rellenar los valores NaN con los datos de la fila anterior (¡corregir nuevamente los datos del problema de rowspan!)\n",
    "df1['Year'] = df1['Year'].fillna(method='ffill')\n",
    "\n",
    "# Filtrar solo los valores numéricos en la columna 'Year'\n",
    "df1 = df1[pd.to_numeric(df1['Year'], errors='coerce').notnull()]\n",
    "\n",
    "# Conversión de todos los valores de Año a números enteros que se convirtieron en flotantes en el proceso\n",
    "df1['Year'] = df1['Year'].astype(float).astype(int)\n",
    "\n",
    "# Cambiar algunas filas de Production Studio(s) con las filas Ninguna de Notas que aparecieron en las Notas después de cambiar las filas a la derecha para corregir el problema de extensión de filas\n",
    "wrongDataIdx1 = (df1['Notes'] == 'None')\n",
    "df1.loc[wrongDataIdx1, ['Production studio(s)', 'Notes']] = df1.loc[wrongDataIdx1, ['Notes', 'Production studio(s)']].values\n",
    "\n",
    "# Rellenar None con valores NaN y luego con los valores apropiados\n",
    "df1['Production studio(s)'] = df1['Production studio(s)'].replace('None', np.nan)\n",
    "df1['Production studio(s)'] = df1['Production studio(s)'].replace(\"\", np.nan)\n",
    "df1['Production studio(s)'] = df1['Production studio(s)'].fillna(method='ffill')"
   ]
  },
  {
   "cell_type": "code",
   "execution_count": 14,
   "metadata": {},
   "outputs": [
    {
     "data": {
      "text/html": [
       "<div>\n",
       "<style scoped>\n",
       "    .dataframe tbody tr th:only-of-type {\n",
       "        vertical-align: middle;\n",
       "    }\n",
       "\n",
       "    .dataframe tbody tr th {\n",
       "        vertical-align: top;\n",
       "    }\n",
       "\n",
       "    .dataframe thead th {\n",
       "        text-align: right;\n",
       "    }\n",
       "</style>\n",
       "<table border=\"1\" class=\"dataframe\">\n",
       "  <thead>\n",
       "    <tr style=\"text-align: right;\">\n",
       "      <th></th>\n",
       "      <th>Year</th>\n",
       "      <th>Title</th>\n",
       "      <th>Production studio(s)</th>\n",
       "      <th>Notes</th>\n",
       "    </tr>\n",
       "  </thead>\n",
       "  <tbody>\n",
       "    <tr>\n",
       "      <th>0</th>\n",
       "      <td>1986</td>\n",
       "      <td>Howard the Duck</td>\n",
       "      <td>Universal Pictures</td>\n",
       "      <td>Co-produced by Lucasfilm</td>\n",
       "    </tr>\n",
       "    <tr>\n",
       "      <th>1</th>\n",
       "      <td>1998</td>\n",
       "      <td>Blade</td>\n",
       "      <td>New Line Cinema</td>\n",
       "      <td></td>\n",
       "    </tr>\n",
       "    <tr>\n",
       "      <th>2</th>\n",
       "      <td>2000</td>\n",
       "      <td>X-Men</td>\n",
       "      <td>New Line Cinema</td>\n",
       "      <td>20th Century Fox</td>\n",
       "    </tr>\n",
       "    <tr>\n",
       "      <th>3</th>\n",
       "      <td>2002</td>\n",
       "      <td>Blade II</td>\n",
       "      <td>New Line Cinema</td>\n",
       "      <td>New Line Cinema</td>\n",
       "    </tr>\n",
       "    <tr>\n",
       "      <th>4</th>\n",
       "      <td>2002</td>\n",
       "      <td>Spider-Man</td>\n",
       "      <td>Columbia Pictures</td>\n",
       "      <td>Nominated for 2 Oscars</td>\n",
       "    </tr>\n",
       "  </tbody>\n",
       "</table>\n",
       "</div>"
      ],
      "text/plain": [
       "   Year            Title Production studio(s)                     Notes\n",
       "0  1986  Howard the Duck   Universal Pictures  Co-produced by Lucasfilm\n",
       "1  1998            Blade      New Line Cinema                          \n",
       "2  2000            X-Men      New Line Cinema          20th Century Fox\n",
       "3  2002         Blade II      New Line Cinema           New Line Cinema\n",
       "4  2002       Spider-Man    Columbia Pictures    Nominated for 2 Oscars"
      ]
     },
     "execution_count": 14,
     "metadata": {},
     "output_type": "execute_result"
    }
   ],
   "source": [
    "df1.head()"
   ]
  },
  {
   "cell_type": "markdown",
   "metadata": {},
   "source": [
    "#### 3. Recopilación de datos para la lista de películas de acción real basadas en publicaciones de DC Comics"
   ]
  },
  {
   "cell_type": "code",
   "execution_count": 15,
   "metadata": {},
   "outputs": [],
   "source": [
    "\n",
    "sauce2 = urllib.request.urlopen(\"https://en.wikipedia.org/wiki/List_of_films_based_on_DC_Comics_publications\")\n",
    "soup2 = bs.BeautifulSoup(sauce2, 'lxml')"
   ]
  },
  {
   "cell_type": "markdown",
   "metadata": {},
   "source": [
    "Extracción de los nombres de las columnas"
   ]
  },
  {
   "cell_type": "code",
   "execution_count": 16,
   "metadata": {},
   "outputs": [
    {
     "data": {
      "text/plain": [
       "['Year', 'Title', 'Production studio(s)', 'Notes', 'Upcoming']"
      ]
     },
     "execution_count": 16,
     "metadata": {},
     "output_type": "execute_result"
    }
   ],
   "source": [
    "table2 = soup2.find('table')\n",
    "tbody2 = table2.select(\"tbody\")\n",
    "th2 = table2.select(\"th\")\n",
    "column_names2 = [str(c.string).strip() for c in th2]\n",
    "column_names2"
   ]
  },
  {
   "cell_type": "markdown",
   "metadata": {},
   "source": [
    "Extracción de datos de filas"
   ]
  },
  {
   "cell_type": "code",
   "execution_count": 21,
   "metadata": {},
   "outputs": [],
   "source": [
    "# Encontrar todas las filas de la tabla y excluir las innecesarias\n",
    "table_rows2 = table2.find_all('tr')[1:35]\n",
    "\n",
    "# Manteniéndolos en una lista con todos los datos de la tabla\n",
    "row_list2 = []\n",
    "for tr2 in table_rows2:\n",
    "  td2 = tr2.find_all('td')\n",
    "\n",
    "# Intentando encontrar valores de Año en cadenas y convertirlos a números enteros\n",
    "  row2 = [str(i2.get_text()).strip() for i2 in td2]\n",
    "  if len(row2[0])==4:\n",
    "    try:\n",
    "      row2[0]=int(row2[0])\n",
    "    except:\n",
    "      continue\n",
    "  row_list2.append(row2)\n",
    "\n",
    "# Se corrige el intervalo de filas obtenido de HTML. También se limpian y reemplazan las filas con los valores adecuados\n",
    "row_list_dc = []\n",
    "for b2 in row_list2:\n",
    "  if isinstance(b2[0], str) and len(b2)==3:\n",
    "    b2.insert(0, '')\n",
    "  if isinstance(b2[0], str) and len(b2)==2:\n",
    "    b2.insert(0, '')\n",
    "    b2.insert(1, '')\n",
    "  if b2[1]=='':\n",
    "    try:\n",
    "      b2[1]=b2[2]\n",
    "      b2[2]=\"\"\n",
    "    except:\n",
    "      continue\n",
    "  if len(b2)==3:\n",
    "    b2.append('None')\n",
    "  else:\n",
    "    b2\n",
    "  row_list_dc.append(b2)"
   ]
  },
  {
   "cell_type": "markdown",
   "metadata": {},
   "source": [
    "Limpieza y Preprocesamiento"
   ]
  },
  {
   "cell_type": "code",
   "execution_count": 73,
   "metadata": {},
   "outputs": [
    {
     "name": "stderr",
     "output_type": "stream",
     "text": [
      "C:\\Users\\Anna\\AppData\\Local\\Temp\\ipykernel_1640\\2037758334.py:5: FutureWarning: Downcasting behavior in `replace` is deprecated and will be removed in a future version. To retain the old behavior, explicitly call `result.infer_objects(copy=False)`. To opt-in to the future behavior, set `pd.set_option('future.no_silent_downcasting', True)`\n",
      "  df2['Year'] = df2['Year'].replace('', np.nan).infer_objects(copy=False)\n"
     ]
    }
   ],
   "source": [
    "# Convertir la lista en un marco de datos\n",
    "df2 = pd.DataFrame(row_list_dc, columns=column_names2[:4])\n",
    "\n",
    "# Reemplazar nuevos valores faltantes con NaN usando infer_objects para mantener el comportamiento esperado\n",
    "df2['Year'] = df2['Year'].replace('', np.nan).infer_objects(copy=False)\n",
    "\n",
    "# Rellenar los valores NaN con los datos de la fila anterior\n",
    "df2['Year'] = df2['Year'].ffill()\n",
    "\n",
    "# Convertir todos los valores de Año a números enteros que se convirtieron en flotantes en el proceso\n",
    "df2['Year'] = df2['Year'].astype(float).astype(int)\n",
    "\n",
    "# Corregir las filas donde \"Production Studio(s)\" y \"Notes\" están intercambiadas\n",
    "wrongDataIdx2 = (df2['Notes'] == 'None')\n",
    "df2.loc[wrongDataIdx2, ['Production studio(s)', 'Notes']] = df2.loc[wrongDataIdx2, ['Notes', 'Production studio(s)']].values\n",
    "\n",
    "# Rellenar \"None\" y valores vacíos con NaN, luego usar el método de propagación hacia adelante\n",
    "df2['Production studio(s)'] = df2['Production studio(s)'].replace(['None', ''], np.nan)\n",
    "df2['Production studio(s)'] = df2['Production studio(s)'].ffill()"
   ]
  },
  {
   "cell_type": "code",
   "execution_count": 74,
   "metadata": {},
   "outputs": [
    {
     "data": {
      "text/html": [
       "<div>\n",
       "<style scoped>\n",
       "    .dataframe tbody tr th:only-of-type {\n",
       "        vertical-align: middle;\n",
       "    }\n",
       "\n",
       "    .dataframe tbody tr th {\n",
       "        vertical-align: top;\n",
       "    }\n",
       "\n",
       "    .dataframe thead th {\n",
       "        text-align: right;\n",
       "    }\n",
       "</style>\n",
       "<table border=\"1\" class=\"dataframe\">\n",
       "  <thead>\n",
       "    <tr style=\"text-align: right;\">\n",
       "      <th></th>\n",
       "      <th>Year</th>\n",
       "      <th>Title</th>\n",
       "      <th>Production studio(s)</th>\n",
       "      <th>Notes</th>\n",
       "    </tr>\n",
       "  </thead>\n",
       "  <tbody>\n",
       "    <tr>\n",
       "      <th>0</th>\n",
       "      <td>1951</td>\n",
       "      <td>Superman and the Mole Men</td>\n",
       "      <td>Lippert Pictures</td>\n",
       "      <td>First feature film based on a DC Comics charac...</td>\n",
       "    </tr>\n",
       "    <tr>\n",
       "      <th>1</th>\n",
       "      <td>1966</td>\n",
       "      <td>Batman</td>\n",
       "      <td>20th Century Fox/Greenlawn Productions</td>\n",
       "      <td>Related to the 1960s Batman television series.</td>\n",
       "    </tr>\n",
       "    <tr>\n",
       "      <th>2</th>\n",
       "      <td>1978</td>\n",
       "      <td>Superman</td>\n",
       "      <td>Dovemead Film Export A.G./International Film P...</td>\n",
       "      <td>Won 1 Special Oscar, nominated for 3 more.</td>\n",
       "    </tr>\n",
       "    <tr>\n",
       "      <th>3</th>\n",
       "      <td>1980</td>\n",
       "      <td>Superman II</td>\n",
       "      <td>Dovemead Film Export A.G./International Film P...</td>\n",
       "      <td>Director's cut titled Superman II: The Richard...</td>\n",
       "    </tr>\n",
       "    <tr>\n",
       "      <th>4</th>\n",
       "      <td>1982</td>\n",
       "      <td>Swamp Thing</td>\n",
       "      <td>Embassy Pictures</td>\n",
       "      <td></td>\n",
       "    </tr>\n",
       "  </tbody>\n",
       "</table>\n",
       "</div>"
      ],
      "text/plain": [
       "   Year                      Title  \\\n",
       "0  1951  Superman and the Mole Men   \n",
       "1  1966                     Batman   \n",
       "2  1978                   Superman   \n",
       "3  1980                Superman II   \n",
       "4  1982                Swamp Thing   \n",
       "\n",
       "                                Production studio(s)  \\\n",
       "0                                   Lippert Pictures   \n",
       "1             20th Century Fox/Greenlawn Productions   \n",
       "2  Dovemead Film Export A.G./International Film P...   \n",
       "3  Dovemead Film Export A.G./International Film P...   \n",
       "4                                   Embassy Pictures   \n",
       "\n",
       "                                               Notes  \n",
       "0  First feature film based on a DC Comics charac...  \n",
       "1     Related to the 1960s Batman television series.  \n",
       "2         Won 1 Special Oscar, nominated for 3 more.  \n",
       "3  Director's cut titled Superman II: The Richard...  \n",
       "4                                                     "
      ]
     },
     "execution_count": 74,
     "metadata": {},
     "output_type": "execute_result"
    }
   ],
   "source": [
    "df2.head()"
   ]
  },
  {
   "cell_type": "markdown",
   "metadata": {},
   "source": [
    "#### 4. Fusionar dos dataframes en uno y agregar una columna que contenga el nombre (abreviado) del cómic"
   ]
  },
  {
   "cell_type": "code",
   "execution_count": 37,
   "metadata": {
    "colab": {
     "background_save": true,
     "base_uri": "https://localhost:8080/",
     "height": 600
    },
    "executionInfo": {
     "elapsed": 266,
     "status": "ok",
     "timestamp": 1671067110702,
     "user": {
      "displayName": "Muhammad Akbar",
      "userId": "00229604356602963247"
     },
     "user_tz": -420
    },
    "id": "EAne9S5qwCY0"
   },
   "outputs": [],
   "source": [
    "mc=df1\n",
    "mc['Comics'] = 'MC'\n",
    "\n",
    "dc=df2\n",
    "dc['Comics'] = 'DC'"
   ]
  },
  {
   "cell_type": "code",
   "execution_count": 52,
   "metadata": {},
   "outputs": [
    {
     "data": {
      "text/html": [
       "<div>\n",
       "<style scoped>\n",
       "    .dataframe tbody tr th:only-of-type {\n",
       "        vertical-align: middle;\n",
       "    }\n",
       "\n",
       "    .dataframe tbody tr th {\n",
       "        vertical-align: top;\n",
       "    }\n",
       "\n",
       "    .dataframe thead th {\n",
       "        text-align: right;\n",
       "    }\n",
       "</style>\n",
       "<table border=\"1\" class=\"dataframe\">\n",
       "  <thead>\n",
       "    <tr style=\"text-align: right;\">\n",
       "      <th></th>\n",
       "      <th>Year</th>\n",
       "      <th>Title</th>\n",
       "      <th>Production studio(s)</th>\n",
       "      <th>Notes</th>\n",
       "      <th>Comics</th>\n",
       "    </tr>\n",
       "  </thead>\n",
       "  <tbody>\n",
       "    <tr>\n",
       "      <th>0</th>\n",
       "      <td>1951</td>\n",
       "      <td>Superman and the Mole Men</td>\n",
       "      <td>Lippert Pictures</td>\n",
       "      <td>First feature film based on a DC Comics charac...</td>\n",
       "      <td>DC</td>\n",
       "    </tr>\n",
       "    <tr>\n",
       "      <th>1</th>\n",
       "      <td>1966</td>\n",
       "      <td>Batman</td>\n",
       "      <td>20th Century Fox/Greenlawn Productions</td>\n",
       "      <td>Related to the 1960s Batman television series.</td>\n",
       "      <td>DC</td>\n",
       "    </tr>\n",
       "    <tr>\n",
       "      <th>2</th>\n",
       "      <td>1978</td>\n",
       "      <td>Superman</td>\n",
       "      <td>Dovemead Film Export A.G./International Film P...</td>\n",
       "      <td>Won 1 Special Oscar, nominated for 3 more.</td>\n",
       "      <td>DC</td>\n",
       "    </tr>\n",
       "    <tr>\n",
       "      <th>3</th>\n",
       "      <td>1980</td>\n",
       "      <td>Superman II</td>\n",
       "      <td>Dovemead Film Export A.G./International Film P...</td>\n",
       "      <td>Director's cut titled Superman II: The Richard...</td>\n",
       "      <td>DC</td>\n",
       "    </tr>\n",
       "    <tr>\n",
       "      <th>4</th>\n",
       "      <td>1982</td>\n",
       "      <td>Swamp Thing</td>\n",
       "      <td>Embassy Pictures</td>\n",
       "      <td></td>\n",
       "      <td>DC</td>\n",
       "    </tr>\n",
       "    <tr>\n",
       "      <th>5</th>\n",
       "      <td>1983</td>\n",
       "      <td>Superman III</td>\n",
       "      <td>Embassy Pictures</td>\n",
       "      <td>Cantharus Productions N.V./Dovemead Films</td>\n",
       "      <td>DC</td>\n",
       "    </tr>\n",
       "    <tr>\n",
       "      <th>6</th>\n",
       "      <td>1984</td>\n",
       "      <td>Supergirl</td>\n",
       "      <td>Artistry Ltd/Cantharus Productions/Pueblo Film...</td>\n",
       "      <td>Spin-off to the 1978 Superman film.</td>\n",
       "      <td>DC</td>\n",
       "    </tr>\n",
       "    <tr>\n",
       "      <th>7</th>\n",
       "      <td>1986</td>\n",
       "      <td>Howard the Duck</td>\n",
       "      <td>Universal Pictures</td>\n",
       "      <td>Co-produced by Lucasfilm</td>\n",
       "      <td>MC</td>\n",
       "    </tr>\n",
       "    <tr>\n",
       "      <th>8</th>\n",
       "      <td>1987</td>\n",
       "      <td>Superman IV: The Quest for Peace</td>\n",
       "      <td>Golan-Globus/Cannon Films</td>\n",
       "      <td></td>\n",
       "      <td>DC</td>\n",
       "    </tr>\n",
       "    <tr>\n",
       "      <th>9</th>\n",
       "      <td>1989</td>\n",
       "      <td>The Return of Swamp Thing</td>\n",
       "      <td>Golan-Globus/Cannon Films</td>\n",
       "      <td>Lightyear Entertainment</td>\n",
       "      <td>DC</td>\n",
       "    </tr>\n",
       "  </tbody>\n",
       "</table>\n",
       "</div>"
      ],
      "text/plain": [
       "   Year                             Title  \\\n",
       "0  1951         Superman and the Mole Men   \n",
       "1  1966                            Batman   \n",
       "2  1978                          Superman   \n",
       "3  1980                       Superman II   \n",
       "4  1982                       Swamp Thing   \n",
       "5  1983                      Superman III   \n",
       "6  1984                         Supergirl   \n",
       "7  1986                   Howard the Duck   \n",
       "8  1987  Superman IV: The Quest for Peace   \n",
       "9  1989         The Return of Swamp Thing   \n",
       "\n",
       "                                Production studio(s)  \\\n",
       "0                                   Lippert Pictures   \n",
       "1             20th Century Fox/Greenlawn Productions   \n",
       "2  Dovemead Film Export A.G./International Film P...   \n",
       "3  Dovemead Film Export A.G./International Film P...   \n",
       "4                                   Embassy Pictures   \n",
       "5                                   Embassy Pictures   \n",
       "6  Artistry Ltd/Cantharus Productions/Pueblo Film...   \n",
       "7                                 Universal Pictures   \n",
       "8                          Golan-Globus/Cannon Films   \n",
       "9                          Golan-Globus/Cannon Films   \n",
       "\n",
       "                                               Notes Comics  \n",
       "0  First feature film based on a DC Comics charac...     DC  \n",
       "1     Related to the 1960s Batman television series.     DC  \n",
       "2         Won 1 Special Oscar, nominated for 3 more.     DC  \n",
       "3  Director's cut titled Superman II: The Richard...     DC  \n",
       "4                                                        DC  \n",
       "5          Cantharus Productions N.V./Dovemead Films     DC  \n",
       "6                Spin-off to the 1978 Superman film.     DC  \n",
       "7                           Co-produced by Lucasfilm     MC  \n",
       "8                                                        DC  \n",
       "9                            Lightyear Entertainment     DC  "
      ]
     },
     "execution_count": 52,
     "metadata": {},
     "output_type": "execute_result"
    }
   ],
   "source": [
    "mcdc = pd.concat([mc, dc], ignore_index=True).sort_values('Year', ascending=True).reset_index(drop=True)\n",
    "mcdc.head(10)"
   ]
  },
  {
   "cell_type": "markdown",
   "metadata": {},
   "source": [
    "#### 5. Se muestra el número total de películas de acción real producidas por año que se basan en Marvel Comics y DC Comics hasta 2020"
   ]
  },
  {
   "cell_type": "code",
   "execution_count": 53,
   "metadata": {
    "colab": {
     "background_save": true,
     "base_uri": "https://localhost:8080/"
    },
    "executionInfo": {
     "elapsed": 249,
     "status": "ok",
     "timestamp": 1671067110704,
     "user": {
      "displayName": "Muhammad Akbar",
      "userId": "00229604356602963247"
     },
     "user_tz": -420
    },
    "id": "YLJ4hmLIw75s"
   },
   "outputs": [],
   "source": [
    "count = mcdc[[\"Year\", \"Comics\"]]\n",
    "count_merge = count.value_counts()"
   ]
  },
  {
   "cell_type": "code",
   "execution_count": 60,
   "metadata": {},
   "outputs": [
    {
     "data": {
      "text/plain": [
       "Text(0.5, 0.98, '\\n Count of all Marvel (green) and DC (purple) Live Action Films produced per year')"
      ]
     },
     "execution_count": 60,
     "metadata": {},
     "output_type": "execute_result"
    },
    {
     "data": {
      "image/png": "[encoded data removed]",
      "text/plain": [
       "<Figure size 2578.62x500 with 1 Axes>"
      ]
     },
     "metadata": {},
     "output_type": "display_data"
    }
   ],
   "source": [
    "df_both = pd.DataFrame(count_merge).reset_index()\n",
    "df_both = df_both.rename(columns = {0: \"count\"})\n",
    "df_both = df_both.sort_values('Year', ascending=False)\n",
    "\n",
    "sns.set_theme(style=\"darkgrid\")\n",
    "ax = sns.catplot(data=df_both, kind=\"bar\", x=\"Year\", hue = 'Comics', y='count', height=5, aspect=5, palette=sns.color_palette(['purple', 'green']))\n",
    "ax.fig.suptitle('\\n Count of all Marvel (green) and DC (purple) Live Action Films produced per year')"
   ]
  },
  {
   "cell_type": "markdown",
   "metadata": {},
   "source": [
    "\n",
    "#### 6. Se muestra el número total de películas de acción real producidas hasta 2020"
   ]
  },
  {
   "cell_type": "code",
   "execution_count": 61,
   "metadata": {},
   "outputs": [
    {
     "data": {
      "text/html": [
       "<div>\n",
       "<style scoped>\n",
       "    .dataframe tbody tr th:only-of-type {\n",
       "        vertical-align: middle;\n",
       "    }\n",
       "\n",
       "    .dataframe tbody tr th {\n",
       "        vertical-align: top;\n",
       "    }\n",
       "\n",
       "    .dataframe thead th {\n",
       "        text-align: right;\n",
       "    }\n",
       "</style>\n",
       "<table border=\"1\" class=\"dataframe\">\n",
       "  <thead>\n",
       "    <tr style=\"text-align: right;\">\n",
       "      <th></th>\n",
       "      <th>Comics</th>\n",
       "      <th>Count of Total Live Action Films</th>\n",
       "    </tr>\n",
       "  </thead>\n",
       "  <tbody>\n",
       "    <tr>\n",
       "      <th>0</th>\n",
       "      <td>DC</td>\n",
       "      <td>34</td>\n",
       "    </tr>\n",
       "    <tr>\n",
       "      <th>1</th>\n",
       "      <td>MC</td>\n",
       "      <td>55</td>\n",
       "    </tr>\n",
       "  </tbody>\n",
       "</table>\n",
       "</div>"
      ],
      "text/plain": [
       "  Comics  Count of Total Live Action Films\n",
       "0     DC                                34\n",
       "1     MC                                55"
      ]
     },
     "execution_count": 61,
     "metadata": {},
     "output_type": "execute_result"
    }
   ],
   "source": [
    "both_sum = df_both[[\"Comics\", 'count']]\n",
    "both_sum= both_sum.groupby('Comics')['count'].sum()\n",
    "both = pd.DataFrame(both_sum).reset_index()\n",
    "both = both.rename(columns = {\"count\": \"Count of Total Live Action Films\"})\n",
    "both"
   ]
  },
  {
   "cell_type": "code",
   "execution_count": 63,
   "metadata": {},
   "outputs": [
    {
     "data": {
      "image/png": "[encoded data removed]",
      "text/plain": [
       "<Figure size 500x500 with 1 Axes>"
      ]
     },
     "metadata": {},
     "output_type": "display_data"
    }
   ],
   "source": [
    "sns.set_theme(style=\"darkgrid\")\n",
    "ax = sns.catplot(data=both, kind=\"bar\", x=\"Comics\", hue = 'Comics' , y='Count of Total Live Action Films', palette=sns.color_palette(['grey', 'black']))"
   ]
  },
  {
   "cell_type": "markdown",
   "metadata": {},
   "source": [
    "#### 7. Se muestra la tabla que contiene el recuento de nominaciones al Oscar"
   ]
  },
  {
   "cell_type": "code",
   "execution_count": 87,
   "metadata": {},
   "outputs": [
    {
     "data": {
      "text/html": [
       "<div>\n",
       "<style scoped>\n",
       "    .dataframe tbody tr th:only-of-type {\n",
       "        vertical-align: middle;\n",
       "    }\n",
       "\n",
       "    .dataframe tbody tr th {\n",
       "        vertical-align: top;\n",
       "    }\n",
       "\n",
       "    .dataframe thead th {\n",
       "        text-align: right;\n",
       "    }\n",
       "</style>\n",
       "<table border=\"1\" class=\"dataframe\">\n",
       "  <thead>\n",
       "    <tr style=\"text-align: right;\">\n",
       "      <th></th>\n",
       "      <th>Year</th>\n",
       "      <th>Title</th>\n",
       "      <th>Production studio(s)</th>\n",
       "      <th>Notes</th>\n",
       "      <th>Comics</th>\n",
       "      <th>Franchise</th>\n",
       "    </tr>\n",
       "  </thead>\n",
       "  <tbody>\n",
       "    <tr>\n",
       "      <th>2</th>\n",
       "      <td>1978</td>\n",
       "      <td>Superman</td>\n",
       "      <td>Dovemead Film Export A.G./International Film P...</td>\n",
       "      <td>Won 1 Special Oscar, nominated for 3 more.</td>\n",
       "      <td>DC</td>\n",
       "      <td>DC</td>\n",
       "    </tr>\n",
       "    <tr>\n",
       "      <th>10</th>\n",
       "      <td>1989</td>\n",
       "      <td>Batman</td>\n",
       "      <td>Warner Bros./PolyGram Filmed Entertainment</td>\n",
       "      <td>Won 1 Oscar.</td>\n",
       "      <td>DC</td>\n",
       "      <td>DC</td>\n",
       "    </tr>\n",
       "    <tr>\n",
       "      <th>11</th>\n",
       "      <td>1992</td>\n",
       "      <td>Batman Returns</td>\n",
       "      <td>Warner Bros./PolyGram Filmed Entertainment</td>\n",
       "      <td>Nominated for 2 Oscars.</td>\n",
       "      <td>DC</td>\n",
       "      <td>DC</td>\n",
       "    </tr>\n",
       "    <tr>\n",
       "      <th>12</th>\n",
       "      <td>1995</td>\n",
       "      <td>Batman Forever</td>\n",
       "      <td>Warner Bros./PolyGram Filmed Entertainment</td>\n",
       "      <td>Nominated for 3 Oscars.</td>\n",
       "      <td>DC</td>\n",
       "      <td>DC</td>\n",
       "    </tr>\n",
       "    <tr>\n",
       "      <th>17</th>\n",
       "      <td>2002</td>\n",
       "      <td>Spider-Man</td>\n",
       "      <td>Columbia Pictures</td>\n",
       "      <td>Nominated for 2 Oscars</td>\n",
       "      <td>MC</td>\n",
       "      <td>DC</td>\n",
       "    </tr>\n",
       "  </tbody>\n",
       "</table>\n",
       "</div>"
      ],
      "text/plain": [
       "    Year           Title                               Production studio(s)  \\\n",
       "2   1978        Superman  Dovemead Film Export A.G./International Film P...   \n",
       "10  1989          Batman         Warner Bros./PolyGram Filmed Entertainment   \n",
       "11  1992  Batman Returns         Warner Bros./PolyGram Filmed Entertainment   \n",
       "12  1995  Batman Forever         Warner Bros./PolyGram Filmed Entertainment   \n",
       "17  2002      Spider-Man                                  Columbia Pictures   \n",
       "\n",
       "                                         Notes Comics Franchise  \n",
       "2   Won 1 Special Oscar, nominated for 3 more.     DC        DC  \n",
       "10                                Won 1 Oscar.     DC        DC  \n",
       "11                     Nominated for 2 Oscars.     DC        DC  \n",
       "12                     Nominated for 3 Oscars.     DC        DC  \n",
       "17                      Nominated for 2 Oscars     MC        DC  "
      ]
     },
     "execution_count": 87,
     "metadata": {},
     "output_type": "execute_result"
    }
   ],
   "source": [
    "# Mostrar filas que contienen la cadena \"Oscar\" en la columna Notas\n",
    "mcdc_o = mcdc[mcdc['Notes'].str.contains(r\"Oscar\", na=False)]\n",
    "mcdc_o.head()"
   ]
  },
  {
   "cell_type": "code",
   "execution_count": 88,
   "metadata": {},
   "outputs": [
    {
     "name": "stderr",
     "output_type": "stream",
     "text": [
      "C:\\Users\\Anna\\AppData\\Local\\Temp\\ipykernel_1640\\514856859.py:14: UserWarning: This pattern is interpreted as a regular expression, and has match groups. To actually get the groups, use str.extract.\n",
      "  exo = ex[ex['Notes'].str.contains(\"(N|n)ominated|Won\")]\n"
     ]
    }
   ],
   "source": [
    "# #Dividir cadenas, reorganizar filas\n",
    "oscar = mcdc_o[[\"Notes\", \"Comics\"]]\n",
    "\n",
    "ex = oscar.set_index([\"Comics\"]).apply(lambda col: col.str.split(',').explode()).reset_index().reindex(oscar.columns, axis=1)\n",
    "ex['Notes'] = ex['Notes'].str.lstrip(\" \")\n",
    "\n",
    "ex = ex.set_index([\"Comics\"]).apply(lambda col: col.str.split(';').explode()).reset_index().reindex(ex.columns, axis=1)\n",
    "ex['Notes'] = ex['Notes'].str.lstrip(\" \")\n",
    "\n",
    "ex = ex.set_index([\"Comics\"]).apply(lambda col: col.str.split('.').explode()).reset_index().reindex(ex.columns, axis=1)\n",
    "ex['Notes'] = ex['Notes'].str.lstrip(\" \")\n",
    "# ex\n",
    "\n",
    "exo = ex[ex['Notes'].str.contains(\"(N|n)ominated|Won\")]"
   ]
  },
  {
   "cell_type": "code",
   "execution_count": 89,
   "metadata": {},
   "outputs": [
    {
     "name": "stderr",
     "output_type": "stream",
     "text": [
      "<>:5: SyntaxWarning: invalid escape sequence '\\d'\n",
      "<>:5: SyntaxWarning: invalid escape sequence '\\d'\n",
      "C:\\Users\\Anna\\AppData\\Local\\Temp\\ipykernel_1640\\3975897149.py:5: SyntaxWarning: invalid escape sequence '\\d'\n",
      "  x = re.findall('\\d+', exo['Notes'][i])\n",
      "C:\\Users\\Anna\\AppData\\Local\\Temp\\ipykernel_1640\\3975897149.py:11: SettingWithCopyWarning: \n",
      "A value is trying to be set on a copy of a slice from a DataFrame.\n",
      "Try using .loc[row_indexer,col_indexer] = value instead\n",
      "\n",
      "See the caveats in the documentation: https://pandas.pydata.org/pandas-docs/stable/user_guide/indexing.html#returning-a-view-versus-a-copy\n",
      "  exo['Nomination Count'] = lst\n"
     ]
    }
   ],
   "source": [
    "# Encontrar números enteros en las cadenas y almacenarlos en una nueva columna\n",
    "lst = []\n",
    "for i in exo.index:\n",
    "  try:\n",
    "    x = re.findall('\\d+', exo['Notes'][i])\n",
    "    x=int(x[0])\n",
    "    lst.append(x)\n",
    "  except:\n",
    "    lst.append(1)\n",
    "\n",
    "exo['Nomination Count'] = lst\n"
   ]
  },
  {
   "cell_type": "code",
   "execution_count": 90,
   "metadata": {},
   "outputs": [
    {
     "data": {
      "text/html": [
       "<div>\n",
       "<style scoped>\n",
       "    .dataframe tbody tr th:only-of-type {\n",
       "        vertical-align: middle;\n",
       "    }\n",
       "\n",
       "    .dataframe tbody tr th {\n",
       "        vertical-align: top;\n",
       "    }\n",
       "\n",
       "    .dataframe thead th {\n",
       "        text-align: right;\n",
       "    }\n",
       "</style>\n",
       "<table border=\"1\" class=\"dataframe\">\n",
       "  <thead>\n",
       "    <tr style=\"text-align: right;\">\n",
       "      <th></th>\n",
       "      <th>Notes</th>\n",
       "      <th>Comics</th>\n",
       "      <th>Nomination Count</th>\n",
       "    </tr>\n",
       "  </thead>\n",
       "  <tbody>\n",
       "    <tr>\n",
       "      <th>0</th>\n",
       "      <td>Won 1 Special Oscar</td>\n",
       "      <td>DC</td>\n",
       "      <td>1</td>\n",
       "    </tr>\n",
       "    <tr>\n",
       "      <th>1</th>\n",
       "      <td>nominated for 3 more</td>\n",
       "      <td>DC</td>\n",
       "      <td>3</td>\n",
       "    </tr>\n",
       "    <tr>\n",
       "      <th>3</th>\n",
       "      <td>Won 1 Oscar</td>\n",
       "      <td>DC</td>\n",
       "      <td>1</td>\n",
       "    </tr>\n",
       "    <tr>\n",
       "      <th>5</th>\n",
       "      <td>Nominated for 2 Oscars</td>\n",
       "      <td>DC</td>\n",
       "      <td>2</td>\n",
       "    </tr>\n",
       "    <tr>\n",
       "      <th>7</th>\n",
       "      <td>Nominated for 3 Oscars</td>\n",
       "      <td>DC</td>\n",
       "      <td>3</td>\n",
       "    </tr>\n",
       "  </tbody>\n",
       "</table>\n",
       "</div>"
      ],
      "text/plain": [
       "                    Notes Comics  Nomination Count\n",
       "0     Won 1 Special Oscar     DC                 1\n",
       "1    nominated for 3 more     DC                 3\n",
       "3             Won 1 Oscar     DC                 1\n",
       "5  Nominated for 2 Oscars     DC                 2\n",
       "7  Nominated for 3 Oscars     DC                 3"
      ]
     },
     "execution_count": 90,
     "metadata": {},
     "output_type": "execute_result"
    }
   ],
   "source": [
    "exo.head()"
   ]
  },
  {
   "cell_type": "markdown",
   "metadata": {},
   "source": [
    "#### 8. Dando una idea de qué películas basadas en publicaciones de cómics obtuvieron más nominaciones a los Oscar que otras."
   ]
  },
  {
   "cell_type": "markdown",
   "metadata": {},
   "source": [
    "Cómo encontrar el recuento total de nominaciones para DC y MC"
   ]
  },
  {
   "cell_type": "code",
   "execution_count": 92,
   "metadata": {},
   "outputs": [
    {
     "data": {
      "text/plain": [
       "Comics\n",
       "DC    32\n",
       "MC    27\n",
       "Name: Nomination Count, dtype: int64"
      ]
     },
     "execution_count": 92,
     "metadata": {},
     "output_type": "execute_result"
    }
   ],
   "source": [
    "exo_nom = exo[[\"Comics\", 'Nomination Count']]\n",
    "exo_nom_cat= exo_nom.groupby(\"Comics\")['Nomination Count'].sum()\n",
    "exo_nom_cat"
   ]
  },
  {
   "cell_type": "markdown",
   "metadata": {},
   "source": [
    "Encontrar el número total de películas basadas en DC y MC que obtuvieron nominaciones"
   ]
  },
  {
   "cell_type": "code",
   "execution_count": 94,
   "metadata": {},
   "outputs": [
    {
     "data": {
      "text/plain": [
       "Comics\n",
       "MC    16\n",
       "DC     9\n",
       "Name: count, dtype: int64"
      ]
     },
     "execution_count": 94,
     "metadata": {},
     "output_type": "execute_result"
    }
   ],
   "source": [
    "nomcount = pd.DataFrame(exo_nom_cat).reset_index()\n",
    "nomcount = nomcount.rename(columns = {'Nomination Count': \"Total Oscar Nomination Count\"})\n",
    "m_oscar = oscar[\"Comics\"].value_counts()\n",
    "m_oscar"
   ]
  },
  {
   "cell_type": "code",
   "execution_count": 102,
   "metadata": {},
   "outputs": [
    {
     "name": "stdout",
     "output_type": "stream",
     "text": [
      "  Count of Live Action Films for Oscar Nomination  count\n",
      "0                                              MC     16\n",
      "1                                              DC      9\n"
     ]
    },
    {
     "ename": "ValueError",
     "evalue": "Could not interpret value `Comics` for `x`. An entry with this name does not appear in `data`.",
     "output_type": "error",
     "traceback": [
      "\u001b[1;31m---------------------------------------------------------------------------\u001b[0m",
      "\u001b[1;31mValueError\u001b[0m                                Traceback (most recent call last)",
      "Cell \u001b[1;32mIn[102], line 14\u001b[0m\n\u001b[0;32m     12\u001b[0m \u001b[38;5;66;03m# Revisar la columna 'Comics' antes de usarla en el gráfico\u001b[39;00m\n\u001b[0;32m     13\u001b[0m sns\u001b[38;5;241m.\u001b[39mbarplot(data\u001b[38;5;241m=\u001b[39mnomcount, x\u001b[38;5;241m=\u001b[39m\u001b[38;5;124m\"\u001b[39m\u001b[38;5;124mComics\u001b[39m\u001b[38;5;124m\"\u001b[39m, y\u001b[38;5;241m=\u001b[39m\u001b[38;5;124m'\u001b[39m\u001b[38;5;124mTotal Oscar Nomination Count\u001b[39m\u001b[38;5;124m'\u001b[39m, hue\u001b[38;5;241m=\u001b[39m\u001b[38;5;124m\"\u001b[39m\u001b[38;5;124mComics\u001b[39m\u001b[38;5;124m\"\u001b[39m, ax\u001b[38;5;241m=\u001b[39maxs[\u001b[38;5;241m0\u001b[39m], palette\u001b[38;5;241m=\u001b[39msns\u001b[38;5;241m.\u001b[39mcolor_palette([\u001b[38;5;124m'\u001b[39m\u001b[38;5;124mpurple\u001b[39m\u001b[38;5;124m'\u001b[39m, \u001b[38;5;124m'\u001b[39m\u001b[38;5;124mgreen\u001b[39m\u001b[38;5;124m'\u001b[39m]))\n\u001b[1;32m---> 14\u001b[0m \u001b[43msns\u001b[49m\u001b[38;5;241;43m.\u001b[39;49m\u001b[43mbarplot\u001b[49m\u001b[43m(\u001b[49m\u001b[43mdata\u001b[49m\u001b[38;5;241;43m=\u001b[39;49m\u001b[43mmoviecount\u001b[49m\u001b[43m,\u001b[49m\u001b[43m \u001b[49m\u001b[43mx\u001b[49m\u001b[38;5;241;43m=\u001b[39;49m\u001b[38;5;124;43m\"\u001b[39;49m\u001b[38;5;124;43mComics\u001b[39;49m\u001b[38;5;124;43m\"\u001b[39;49m\u001b[43m,\u001b[49m\u001b[43m \u001b[49m\u001b[43my\u001b[49m\u001b[38;5;241;43m=\u001b[39;49m\u001b[38;5;124;43m\"\u001b[39;49m\u001b[38;5;124;43mCount of Live Action Films for Oscar Nomination\u001b[39;49m\u001b[38;5;124;43m\"\u001b[39;49m\u001b[43m,\u001b[49m\u001b[43m \u001b[49m\u001b[43mhue\u001b[49m\u001b[38;5;241;43m=\u001b[39;49m\u001b[38;5;124;43m\"\u001b[39;49m\u001b[38;5;124;43mComics\u001b[39;49m\u001b[38;5;124;43m\"\u001b[39;49m\u001b[43m,\u001b[49m\u001b[43m \u001b[49m\u001b[43max\u001b[49m\u001b[38;5;241;43m=\u001b[39;49m\u001b[43maxs\u001b[49m\u001b[43m[\u001b[49m\u001b[38;5;241;43m1\u001b[39;49m\u001b[43m]\u001b[49m\u001b[43m,\u001b[49m\u001b[43m \u001b[49m\u001b[43mpalette\u001b[49m\u001b[38;5;241;43m=\u001b[39;49m\u001b[43msns\u001b[49m\u001b[38;5;241;43m.\u001b[39;49m\u001b[43mcolor_palette\u001b[49m\u001b[43m(\u001b[49m\u001b[43m[\u001b[49m\u001b[38;5;124;43m'\u001b[39;49m\u001b[38;5;124;43mgreen\u001b[39;49m\u001b[38;5;124;43m'\u001b[39;49m\u001b[43m,\u001b[49m\u001b[43m \u001b[49m\u001b[38;5;124;43m'\u001b[39;49m\u001b[38;5;124;43mpurple\u001b[39;49m\u001b[38;5;124;43m'\u001b[39;49m\u001b[43m]\u001b[49m\u001b[43m)\u001b[49m\u001b[43m)\u001b[49m\n\u001b[0;32m     16\u001b[0m fig\u001b[38;5;241m.\u001b[39mtight_layout()\n\u001b[0;32m     17\u001b[0m plt\u001b[38;5;241m.\u001b[39mshow()\n",
      "File \u001b[1;32mc:\\Users\\Anna\\AppData\\Local\\Programs\\Python\\Python312\\Lib\\site-packages\\seaborn\\categorical.py:2341\u001b[0m, in \u001b[0;36mbarplot\u001b[1;34m(data, x, y, hue, order, hue_order, estimator, errorbar, n_boot, seed, units, weights, orient, color, palette, saturation, fill, hue_norm, width, dodge, gap, log_scale, native_scale, formatter, legend, capsize, err_kws, ci, errcolor, errwidth, ax, **kwargs)\u001b[0m\n\u001b[0;32m   2338\u001b[0m \u001b[38;5;28;01mif\u001b[39;00m estimator \u001b[38;5;129;01mis\u001b[39;00m \u001b[38;5;28mlen\u001b[39m:\n\u001b[0;32m   2339\u001b[0m     estimator \u001b[38;5;241m=\u001b[39m \u001b[38;5;124m\"\u001b[39m\u001b[38;5;124msize\u001b[39m\u001b[38;5;124m\"\u001b[39m\n\u001b[1;32m-> 2341\u001b[0m p \u001b[38;5;241m=\u001b[39m \u001b[43m_CategoricalAggPlotter\u001b[49m\u001b[43m(\u001b[49m\n\u001b[0;32m   2342\u001b[0m \u001b[43m    \u001b[49m\u001b[43mdata\u001b[49m\u001b[38;5;241;43m=\u001b[39;49m\u001b[43mdata\u001b[49m\u001b[43m,\u001b[49m\n\u001b[0;32m   2343\u001b[0m \u001b[43m    \u001b[49m\u001b[43mvariables\u001b[49m\u001b[38;5;241;43m=\u001b[39;49m\u001b[38;5;28;43mdict\u001b[39;49m\u001b[43m(\u001b[49m\u001b[43mx\u001b[49m\u001b[38;5;241;43m=\u001b[39;49m\u001b[43mx\u001b[49m\u001b[43m,\u001b[49m\u001b[43m \u001b[49m\u001b[43my\u001b[49m\u001b[38;5;241;43m=\u001b[39;49m\u001b[43my\u001b[49m\u001b[43m,\u001b[49m\u001b[43m \u001b[49m\u001b[43mhue\u001b[49m\u001b[38;5;241;43m=\u001b[39;49m\u001b[43mhue\u001b[49m\u001b[43m,\u001b[49m\u001b[43m \u001b[49m\u001b[43munits\u001b[49m\u001b[38;5;241;43m=\u001b[39;49m\u001b[43munits\u001b[49m\u001b[43m,\u001b[49m\u001b[43m \u001b[49m\u001b[43mweight\u001b[49m\u001b[38;5;241;43m=\u001b[39;49m\u001b[43mweights\u001b[49m\u001b[43m)\u001b[49m\u001b[43m,\u001b[49m\n\u001b[0;32m   2344\u001b[0m \u001b[43m    \u001b[49m\u001b[43morder\u001b[49m\u001b[38;5;241;43m=\u001b[39;49m\u001b[43morder\u001b[49m\u001b[43m,\u001b[49m\n\u001b[0;32m   2345\u001b[0m \u001b[43m    \u001b[49m\u001b[43morient\u001b[49m\u001b[38;5;241;43m=\u001b[39;49m\u001b[43morient\u001b[49m\u001b[43m,\u001b[49m\n\u001b[0;32m   2346\u001b[0m \u001b[43m    \u001b[49m\u001b[43mcolor\u001b[49m\u001b[38;5;241;43m=\u001b[39;49m\u001b[43mcolor\u001b[49m\u001b[43m,\u001b[49m\n\u001b[0;32m   2347\u001b[0m \u001b[43m    \u001b[49m\u001b[43mlegend\u001b[49m\u001b[38;5;241;43m=\u001b[39;49m\u001b[43mlegend\u001b[49m\u001b[43m,\u001b[49m\n\u001b[0;32m   2348\u001b[0m \u001b[43m\u001b[49m\u001b[43m)\u001b[49m\n\u001b[0;32m   2350\u001b[0m \u001b[38;5;28;01mif\u001b[39;00m ax \u001b[38;5;129;01mis\u001b[39;00m \u001b[38;5;28;01mNone\u001b[39;00m:\n\u001b[0;32m   2351\u001b[0m     ax \u001b[38;5;241m=\u001b[39m plt\u001b[38;5;241m.\u001b[39mgca()\n",
      "File \u001b[1;32mc:\\Users\\Anna\\AppData\\Local\\Programs\\Python\\Python312\\Lib\\site-packages\\seaborn\\categorical.py:67\u001b[0m, in \u001b[0;36m_CategoricalPlotter.__init__\u001b[1;34m(self, data, variables, order, orient, require_numeric, color, legend)\u001b[0m\n\u001b[0;32m     56\u001b[0m \u001b[38;5;28;01mdef\u001b[39;00m \u001b[38;5;21m__init__\u001b[39m(\n\u001b[0;32m     57\u001b[0m     \u001b[38;5;28mself\u001b[39m,\n\u001b[0;32m     58\u001b[0m     data\u001b[38;5;241m=\u001b[39m\u001b[38;5;28;01mNone\u001b[39;00m,\n\u001b[1;32m   (...)\u001b[0m\n\u001b[0;32m     64\u001b[0m     legend\u001b[38;5;241m=\u001b[39m\u001b[38;5;124m\"\u001b[39m\u001b[38;5;124mauto\u001b[39m\u001b[38;5;124m\"\u001b[39m,\n\u001b[0;32m     65\u001b[0m ):\n\u001b[1;32m---> 67\u001b[0m     \u001b[38;5;28;43msuper\u001b[39;49m\u001b[43m(\u001b[49m\u001b[43m)\u001b[49m\u001b[38;5;241;43m.\u001b[39;49m\u001b[38;5;21;43m__init__\u001b[39;49m\u001b[43m(\u001b[49m\u001b[43mdata\u001b[49m\u001b[38;5;241;43m=\u001b[39;49m\u001b[43mdata\u001b[49m\u001b[43m,\u001b[49m\u001b[43m \u001b[49m\u001b[43mvariables\u001b[49m\u001b[38;5;241;43m=\u001b[39;49m\u001b[43mvariables\u001b[49m\u001b[43m)\u001b[49m\n\u001b[0;32m     69\u001b[0m     \u001b[38;5;66;03m# This method takes care of some bookkeeping that is necessary because the\u001b[39;00m\n\u001b[0;32m     70\u001b[0m     \u001b[38;5;66;03m# original categorical plots (prior to the 2021 refactor) had some rules that\u001b[39;00m\n\u001b[0;32m     71\u001b[0m     \u001b[38;5;66;03m# don't fit exactly into VectorPlotter logic. It may be wise to have a second\u001b[39;00m\n\u001b[1;32m   (...)\u001b[0m\n\u001b[0;32m     76\u001b[0m     \u001b[38;5;66;03m# default VectorPlotter rules. If we do decide to make orient part of the\u001b[39;00m\n\u001b[0;32m     77\u001b[0m     \u001b[38;5;66;03m# _base variable assignment, we'll want to figure out how to express that.\u001b[39;00m\n\u001b[0;32m     78\u001b[0m     \u001b[38;5;28;01mif\u001b[39;00m \u001b[38;5;28mself\u001b[39m\u001b[38;5;241m.\u001b[39minput_format \u001b[38;5;241m==\u001b[39m \u001b[38;5;124m\"\u001b[39m\u001b[38;5;124mwide\u001b[39m\u001b[38;5;124m\"\u001b[39m \u001b[38;5;129;01mand\u001b[39;00m orient \u001b[38;5;129;01min\u001b[39;00m [\u001b[38;5;124m\"\u001b[39m\u001b[38;5;124mh\u001b[39m\u001b[38;5;124m\"\u001b[39m, \u001b[38;5;124m\"\u001b[39m\u001b[38;5;124my\u001b[39m\u001b[38;5;124m\"\u001b[39m]:\n",
      "File \u001b[1;32mc:\\Users\\Anna\\AppData\\Local\\Programs\\Python\\Python312\\Lib\\site-packages\\seaborn\\_base.py:634\u001b[0m, in \u001b[0;36mVectorPlotter.__init__\u001b[1;34m(self, data, variables)\u001b[0m\n\u001b[0;32m    629\u001b[0m \u001b[38;5;66;03m# var_ordered is relevant only for categorical axis variables, and may\u001b[39;00m\n\u001b[0;32m    630\u001b[0m \u001b[38;5;66;03m# be better handled by an internal axis information object that tracks\u001b[39;00m\n\u001b[0;32m    631\u001b[0m \u001b[38;5;66;03m# such information and is set up by the scale_* methods. The analogous\u001b[39;00m\n\u001b[0;32m    632\u001b[0m \u001b[38;5;66;03m# information for numeric axes would be information about log scales.\u001b[39;00m\n\u001b[0;32m    633\u001b[0m \u001b[38;5;28mself\u001b[39m\u001b[38;5;241m.\u001b[39m_var_ordered \u001b[38;5;241m=\u001b[39m {\u001b[38;5;124m\"\u001b[39m\u001b[38;5;124mx\u001b[39m\u001b[38;5;124m\"\u001b[39m: \u001b[38;5;28;01mFalse\u001b[39;00m, \u001b[38;5;124m\"\u001b[39m\u001b[38;5;124my\u001b[39m\u001b[38;5;124m\"\u001b[39m: \u001b[38;5;28;01mFalse\u001b[39;00m}  \u001b[38;5;66;03m# alt., used DefaultDict\u001b[39;00m\n\u001b[1;32m--> 634\u001b[0m \u001b[38;5;28;43mself\u001b[39;49m\u001b[38;5;241;43m.\u001b[39;49m\u001b[43massign_variables\u001b[49m\u001b[43m(\u001b[49m\u001b[43mdata\u001b[49m\u001b[43m,\u001b[49m\u001b[43m \u001b[49m\u001b[43mvariables\u001b[49m\u001b[43m)\u001b[49m\n\u001b[0;32m    636\u001b[0m \u001b[38;5;66;03m# TODO Lots of tests assume that these are called to initialize the\u001b[39;00m\n\u001b[0;32m    637\u001b[0m \u001b[38;5;66;03m# mappings to default values on class initialization. I'd prefer to\u001b[39;00m\n\u001b[0;32m    638\u001b[0m \u001b[38;5;66;03m# move away from that and only have a mapping when explicitly called.\u001b[39;00m\n\u001b[0;32m    639\u001b[0m \u001b[38;5;28;01mfor\u001b[39;00m var \u001b[38;5;129;01min\u001b[39;00m [\u001b[38;5;124m\"\u001b[39m\u001b[38;5;124mhue\u001b[39m\u001b[38;5;124m\"\u001b[39m, \u001b[38;5;124m\"\u001b[39m\u001b[38;5;124msize\u001b[39m\u001b[38;5;124m\"\u001b[39m, \u001b[38;5;124m\"\u001b[39m\u001b[38;5;124mstyle\u001b[39m\u001b[38;5;124m\"\u001b[39m]:\n",
      "File \u001b[1;32mc:\\Users\\Anna\\AppData\\Local\\Programs\\Python\\Python312\\Lib\\site-packages\\seaborn\\_base.py:679\u001b[0m, in \u001b[0;36mVectorPlotter.assign_variables\u001b[1;34m(self, data, variables)\u001b[0m\n\u001b[0;32m    674\u001b[0m \u001b[38;5;28;01melse\u001b[39;00m:\n\u001b[0;32m    675\u001b[0m     \u001b[38;5;66;03m# When dealing with long-form input, use the newer PlotData\u001b[39;00m\n\u001b[0;32m    676\u001b[0m     \u001b[38;5;66;03m# object (internal but introduced for the objects interface)\u001b[39;00m\n\u001b[0;32m    677\u001b[0m     \u001b[38;5;66;03m# to centralize / standardize data consumption logic.\u001b[39;00m\n\u001b[0;32m    678\u001b[0m     \u001b[38;5;28mself\u001b[39m\u001b[38;5;241m.\u001b[39minput_format \u001b[38;5;241m=\u001b[39m \u001b[38;5;124m\"\u001b[39m\u001b[38;5;124mlong\u001b[39m\u001b[38;5;124m\"\u001b[39m\n\u001b[1;32m--> 679\u001b[0m     plot_data \u001b[38;5;241m=\u001b[39m \u001b[43mPlotData\u001b[49m\u001b[43m(\u001b[49m\u001b[43mdata\u001b[49m\u001b[43m,\u001b[49m\u001b[43m \u001b[49m\u001b[43mvariables\u001b[49m\u001b[43m)\u001b[49m\n\u001b[0;32m    680\u001b[0m     frame \u001b[38;5;241m=\u001b[39m plot_data\u001b[38;5;241m.\u001b[39mframe\n\u001b[0;32m    681\u001b[0m     names \u001b[38;5;241m=\u001b[39m plot_data\u001b[38;5;241m.\u001b[39mnames\n",
      "File \u001b[1;32mc:\\Users\\Anna\\AppData\\Local\\Programs\\Python\\Python312\\Lib\\site-packages\\seaborn\\_core\\data.py:58\u001b[0m, in \u001b[0;36mPlotData.__init__\u001b[1;34m(self, data, variables)\u001b[0m\n\u001b[0;32m     51\u001b[0m \u001b[38;5;28;01mdef\u001b[39;00m \u001b[38;5;21m__init__\u001b[39m(\n\u001b[0;32m     52\u001b[0m     \u001b[38;5;28mself\u001b[39m,\n\u001b[0;32m     53\u001b[0m     data: DataSource,\n\u001b[0;32m     54\u001b[0m     variables: \u001b[38;5;28mdict\u001b[39m[\u001b[38;5;28mstr\u001b[39m, VariableSpec],\n\u001b[0;32m     55\u001b[0m ):\n\u001b[0;32m     57\u001b[0m     data \u001b[38;5;241m=\u001b[39m handle_data_source(data)\n\u001b[1;32m---> 58\u001b[0m     frame, names, ids \u001b[38;5;241m=\u001b[39m \u001b[38;5;28;43mself\u001b[39;49m\u001b[38;5;241;43m.\u001b[39;49m\u001b[43m_assign_variables\u001b[49m\u001b[43m(\u001b[49m\u001b[43mdata\u001b[49m\u001b[43m,\u001b[49m\u001b[43m \u001b[49m\u001b[43mvariables\u001b[49m\u001b[43m)\u001b[49m\n\u001b[0;32m     60\u001b[0m     \u001b[38;5;28mself\u001b[39m\u001b[38;5;241m.\u001b[39mframe \u001b[38;5;241m=\u001b[39m frame\n\u001b[0;32m     61\u001b[0m     \u001b[38;5;28mself\u001b[39m\u001b[38;5;241m.\u001b[39mnames \u001b[38;5;241m=\u001b[39m names\n",
      "File \u001b[1;32mc:\\Users\\Anna\\AppData\\Local\\Programs\\Python\\Python312\\Lib\\site-packages\\seaborn\\_core\\data.py:232\u001b[0m, in \u001b[0;36mPlotData._assign_variables\u001b[1;34m(self, data, variables)\u001b[0m\n\u001b[0;32m    230\u001b[0m     \u001b[38;5;28;01melse\u001b[39;00m:\n\u001b[0;32m    231\u001b[0m         err \u001b[38;5;241m+\u001b[39m\u001b[38;5;241m=\u001b[39m \u001b[38;5;124m\"\u001b[39m\u001b[38;5;124mAn entry with this name does not appear in `data`.\u001b[39m\u001b[38;5;124m\"\u001b[39m\n\u001b[1;32m--> 232\u001b[0m     \u001b[38;5;28;01mraise\u001b[39;00m \u001b[38;5;167;01mValueError\u001b[39;00m(err)\n\u001b[0;32m    234\u001b[0m \u001b[38;5;28;01melse\u001b[39;00m:\n\u001b[0;32m    235\u001b[0m \n\u001b[0;32m    236\u001b[0m     \u001b[38;5;66;03m# Otherwise, assume the value somehow represents data\u001b[39;00m\n\u001b[0;32m    237\u001b[0m \n\u001b[0;32m    238\u001b[0m     \u001b[38;5;66;03m# Ignore empty data structures\u001b[39;00m\n\u001b[0;32m    239\u001b[0m     \u001b[38;5;28;01mif\u001b[39;00m \u001b[38;5;28misinstance\u001b[39m(val, Sized) \u001b[38;5;129;01mand\u001b[39;00m \u001b[38;5;28mlen\u001b[39m(val) \u001b[38;5;241m==\u001b[39m \u001b[38;5;241m0\u001b[39m:\n",
      "\u001b[1;31mValueError\u001b[0m: Could not interpret value `Comics` for `x`. An entry with this name does not appear in `data`."
     ]
    },
    {
     "data": {
      "image/png": "[encoded data removed]",
      "text/plain": [
       "<Figure size 1000x600 with 2 Axes>"
      ]
     },
     "metadata": {},
     "output_type": "display_data"
    }
   ],
   "source": [
    "# Verifica las columnas de moviecount después del renombramiento\n",
    "moviecount = pd.DataFrame(m_oscar).reset_index()\n",
    "moviecount = moviecount.rename(columns={'index': \"Comics\", \"Comics\": \"Count of Live Action Films for Oscar Nomination\"})\n",
    "\n",
    "# Verifica las primeras filas del DataFrame para asegurar que la columna 'Comics' existe\n",
    "print(moviecount.head())\n",
    "\n",
    "# Establece la paleta correctamente y asigna 'hue' para evitar la advertencia\n",
    "sns.set(style=\"ticks\")\n",
    "fig, axs = plt.subplots(1, 2)\n",
    "\n",
    "# Revisar la columna 'Comics' antes de usarla en el gráfico\n",
    "sns.barplot(data=nomcount, x=\"Comics\", y='Total Oscar Nomination Count', hue=\"Comics\", ax=axs[0], palette=sns.color_palette(['purple', 'green']))\n",
    "sns.barplot(data=moviecount, x=\"Comics\", y=\"Count of Live Action Films for Oscar Nomination\", hue=\"Comics\", ax=axs[1], palette=sns.color_palette(['green', 'purple']))\n",
    "\n",
    "fig.tight_layout()\n",
    "plt.show()"
   ]
  },
  {
   "cell_type": "markdown",
   "metadata": {},
   "source": [
    "Curiosamente, 9 películas de acción real de DC tuvieron 32 nominaciones a los Oscar y 15 películas de acción real de Marvel Comics (más que DC) tuvieron en total 26 nominaciones (menos que DC).\n",
    "\n",
    "En la siguiente sección, veamos qué película(s) de acción de DC son responsables de superar la cantidad de nominaciones al Oscar de Marvel al obtener 32-26 = 6 nominaciones más."
   ]
  },
  {
   "cell_type": "markdown",
   "metadata": {},
   "source": [
    "#### 9. Encontrar la(s) película(s) de acción real basadas en los cómics que son responsables de superar a las demás en el recuento de nominaciones"
   ]
  },
  {
   "cell_type": "markdown",
   "metadata": {},
   "source": [
    "Dado que DC tiene más nominaciones que Marvel, traigamos todas las películas de DC que obtuvieron nominaciones y contemos sus nominaciones totales individualmente."
   ]
  },
  {
   "cell_type": "code",
   "execution_count": 103,
   "metadata": {},
   "outputs": [
    {
     "data": {
      "text/html": [
       "<div>\n",
       "<style scoped>\n",
       "    .dataframe tbody tr th:only-of-type {\n",
       "        vertical-align: middle;\n",
       "    }\n",
       "\n",
       "    .dataframe tbody tr th {\n",
       "        vertical-align: top;\n",
       "    }\n",
       "\n",
       "    .dataframe thead th {\n",
       "        text-align: right;\n",
       "    }\n",
       "</style>\n",
       "<table border=\"1\" class=\"dataframe\">\n",
       "  <thead>\n",
       "    <tr style=\"text-align: right;\">\n",
       "      <th></th>\n",
       "      <th>Year</th>\n",
       "      <th>Title</th>\n",
       "      <th>Notes</th>\n",
       "      <th>Comics</th>\n",
       "    </tr>\n",
       "  </thead>\n",
       "  <tbody>\n",
       "    <tr>\n",
       "      <th>2</th>\n",
       "      <td>1978</td>\n",
       "      <td>Superman</td>\n",
       "      <td>Won 1 Special Oscar, nominated for 3 more.</td>\n",
       "      <td>DC</td>\n",
       "    </tr>\n",
       "    <tr>\n",
       "      <th>10</th>\n",
       "      <td>1989</td>\n",
       "      <td>Batman</td>\n",
       "      <td>Won 1 Oscar.</td>\n",
       "      <td>DC</td>\n",
       "    </tr>\n",
       "    <tr>\n",
       "      <th>11</th>\n",
       "      <td>1992</td>\n",
       "      <td>Batman Returns</td>\n",
       "      <td>Nominated for 2 Oscars.</td>\n",
       "      <td>DC</td>\n",
       "    </tr>\n",
       "    <tr>\n",
       "      <th>12</th>\n",
       "      <td>1995</td>\n",
       "      <td>Batman Forever</td>\n",
       "      <td>Nominated for 3 Oscars.</td>\n",
       "      <td>DC</td>\n",
       "    </tr>\n",
       "    <tr>\n",
       "      <th>26</th>\n",
       "      <td>2005</td>\n",
       "      <td>Batman Begins</td>\n",
       "      <td>Reboot; nominated for 1 Oscar.</td>\n",
       "      <td>DC</td>\n",
       "    </tr>\n",
       "    <tr>\n",
       "      <th>30</th>\n",
       "      <td>2006</td>\n",
       "      <td>Superman Returns</td>\n",
       "      <td>Alternate trilogy conclusion only to Superman ...</td>\n",
       "      <td>DC</td>\n",
       "    </tr>\n",
       "    <tr>\n",
       "      <th>34</th>\n",
       "      <td>2008</td>\n",
       "      <td>The Dark Knight</td>\n",
       "      <td>Won 2 Oscars, nominated for 6 more.</td>\n",
       "      <td>DC</td>\n",
       "    </tr>\n",
       "    <tr>\n",
       "      <th>62</th>\n",
       "      <td>2016</td>\n",
       "      <td>Suicide Squad</td>\n",
       "      <td>Set in the DCEU. Won 1 Oscar.</td>\n",
       "      <td>DC</td>\n",
       "    </tr>\n",
       "    <tr>\n",
       "      <th>80</th>\n",
       "      <td>2019</td>\n",
       "      <td>Joker</td>\n",
       "      <td>Won 2 Oscars, nominated for 9 more.</td>\n",
       "      <td>DC</td>\n",
       "    </tr>\n",
       "  </tbody>\n",
       "</table>\n",
       "</div>"
      ],
      "text/plain": [
       "    Year             Title                                              Notes  \\\n",
       "2   1978          Superman         Won 1 Special Oscar, nominated for 3 more.   \n",
       "10  1989            Batman                                       Won 1 Oscar.   \n",
       "11  1992    Batman Returns                            Nominated for 2 Oscars.   \n",
       "12  1995    Batman Forever                            Nominated for 3 Oscars.   \n",
       "26  2005     Batman Begins                     Reboot; nominated for 1 Oscar.   \n",
       "30  2006  Superman Returns  Alternate trilogy conclusion only to Superman ...   \n",
       "34  2008   The Dark Knight                Won 2 Oscars, nominated for 6 more.   \n",
       "62  2016     Suicide Squad                      Set in the DCEU. Won 1 Oscar.   \n",
       "80  2019             Joker                Won 2 Oscars, nominated for 9 more.   \n",
       "\n",
       "   Comics  \n",
       "2      DC  \n",
       "10     DC  \n",
       "11     DC  \n",
       "12     DC  \n",
       "26     DC  \n",
       "30     DC  \n",
       "34     DC  \n",
       "62     DC  \n",
       "80     DC  "
      ]
     },
     "execution_count": 103,
     "metadata": {},
     "output_type": "execute_result"
    }
   ],
   "source": [
    "tncat_o = mcdc_o[[\"Year\",\"Title\", \"Notes\", \"Comics\"]]\n",
    "max_dc = tncat_o.loc[tncat_o[\"Comics\"] == 'DC']\n",
    "max_dc"
   ]
  },
  {
   "cell_type": "code",
   "execution_count": 118,
   "metadata": {},
   "outputs": [
    {
     "name": "stdout",
     "output_type": "stream",
     "text": [
      "[4, 1, 2, 3, 1, 1, 8, 1, 11]\n"
     ]
    },
    {
     "name": "stderr",
     "output_type": "stream",
     "text": [
      "<>:10: SyntaxWarning: invalid escape sequence '\\d'\n",
      "<>:10: SyntaxWarning: invalid escape sequence '\\d'\n",
      "C:\\Users\\Anna\\AppData\\Local\\Temp\\ipykernel_1640\\4261698638.py:10: SyntaxWarning: invalid escape sequence '\\d'\n",
      "  x = re.findall('\\d+', max_dc['Notes'][p])\n"
     ]
    }
   ],
   "source": [
    "import re\n",
    "from nltk import flatten\n",
    "\n",
    "# Inicializamos una lista para almacenar los resultados\n",
    "pst = []\n",
    "\n",
    "# Recorremos el índice de max_dc para extraer las nominaciones\n",
    "for p in max_dc.index:\n",
    "    # Extraemos los números (nominaciones) de la columna 'Notes'\n",
    "    x = re.findall('\\d+', max_dc['Notes'][p])\n",
    "    pst.append(x)\n",
    "\n",
    "# Procesamos la lista para asegurarnos de que los valores sean enteros y sumamos los casos con dos valores\n",
    "for h in pst:\n",
    "    if len(h) == 0:\n",
    "        h.append(1)  # Si no hay valores, añadimos 1 como valor por defecto\n",
    "    elif len(h) == 2:\n",
    "        h[0] = int(h[0])\n",
    "        h[1] = int(h[1])\n",
    "    elif len(h) == 1:\n",
    "        h[0] = int(h[0])\n",
    "\n",
    "# Sumamos los dos valores cuando hay dos números en la lista\n",
    "for q in range(len(pst)):\n",
    "    if len(pst[q]) == 2:\n",
    "        pst[q] = [pst[q][0] + pst[q][1]]\n",
    "\n",
    "# Aplanamos la lista de listas en una sola lista\n",
    "flattened_list = [item for sublist in pst for item in sublist]\n",
    "\n",
    "# Imprimimos la lista final\n",
    "print(flattened_list)"
   ]
  },
  {
   "cell_type": "code",
   "execution_count": 108,
   "metadata": {},
   "outputs": [
    {
     "name": "stderr",
     "output_type": "stream",
     "text": [
      "C:\\Users\\Anna\\AppData\\Local\\Temp\\ipykernel_1640\\2674035892.py:1: SettingWithCopyWarning: \n",
      "A value is trying to be set on a copy of a slice from a DataFrame.\n",
      "Try using .loc[row_indexer,col_indexer] = value instead\n",
      "\n",
      "See the caveats in the documentation: https://pandas.pydata.org/pandas-docs/stable/user_guide/indexing.html#returning-a-view-versus-a-copy\n",
      "  max_dc['Nomination Count'] = flattened_list\n"
     ]
    },
    {
     "data": {
      "text/html": [
       "<div>\n",
       "<style scoped>\n",
       "    .dataframe tbody tr th:only-of-type {\n",
       "        vertical-align: middle;\n",
       "    }\n",
       "\n",
       "    .dataframe tbody tr th {\n",
       "        vertical-align: top;\n",
       "    }\n",
       "\n",
       "    .dataframe thead th {\n",
       "        text-align: right;\n",
       "    }\n",
       "</style>\n",
       "<table border=\"1\" class=\"dataframe\">\n",
       "  <thead>\n",
       "    <tr style=\"text-align: right;\">\n",
       "      <th></th>\n",
       "      <th>Year</th>\n",
       "      <th>Title</th>\n",
       "      <th>Notes</th>\n",
       "      <th>Comics</th>\n",
       "      <th>Nomination Count</th>\n",
       "    </tr>\n",
       "  </thead>\n",
       "  <tbody>\n",
       "    <tr>\n",
       "      <th>2</th>\n",
       "      <td>1978</td>\n",
       "      <td>Superman</td>\n",
       "      <td>Won 1 Special Oscar, nominated for 3 more.</td>\n",
       "      <td>DC</td>\n",
       "      <td>4</td>\n",
       "    </tr>\n",
       "    <tr>\n",
       "      <th>10</th>\n",
       "      <td>1989</td>\n",
       "      <td>Batman</td>\n",
       "      <td>Won 1 Oscar.</td>\n",
       "      <td>DC</td>\n",
       "      <td>1</td>\n",
       "    </tr>\n",
       "    <tr>\n",
       "      <th>11</th>\n",
       "      <td>1992</td>\n",
       "      <td>Batman Returns</td>\n",
       "      <td>Nominated for 2 Oscars.</td>\n",
       "      <td>DC</td>\n",
       "      <td>2</td>\n",
       "    </tr>\n",
       "    <tr>\n",
       "      <th>12</th>\n",
       "      <td>1995</td>\n",
       "      <td>Batman Forever</td>\n",
       "      <td>Nominated for 3 Oscars.</td>\n",
       "      <td>DC</td>\n",
       "      <td>3</td>\n",
       "    </tr>\n",
       "    <tr>\n",
       "      <th>26</th>\n",
       "      <td>2005</td>\n",
       "      <td>Batman Begins</td>\n",
       "      <td>Reboot; nominated for 1 Oscar.</td>\n",
       "      <td>DC</td>\n",
       "      <td>1</td>\n",
       "    </tr>\n",
       "    <tr>\n",
       "      <th>30</th>\n",
       "      <td>2006</td>\n",
       "      <td>Superman Returns</td>\n",
       "      <td>Alternate trilogy conclusion only to Superman ...</td>\n",
       "      <td>DC</td>\n",
       "      <td>1</td>\n",
       "    </tr>\n",
       "    <tr>\n",
       "      <th>34</th>\n",
       "      <td>2008</td>\n",
       "      <td>The Dark Knight</td>\n",
       "      <td>Won 2 Oscars, nominated for 6 more.</td>\n",
       "      <td>DC</td>\n",
       "      <td>8</td>\n",
       "    </tr>\n",
       "    <tr>\n",
       "      <th>62</th>\n",
       "      <td>2016</td>\n",
       "      <td>Suicide Squad</td>\n",
       "      <td>Set in the DCEU. Won 1 Oscar.</td>\n",
       "      <td>DC</td>\n",
       "      <td>1</td>\n",
       "    </tr>\n",
       "    <tr>\n",
       "      <th>80</th>\n",
       "      <td>2019</td>\n",
       "      <td>Joker</td>\n",
       "      <td>Won 2 Oscars, nominated for 9 more.</td>\n",
       "      <td>DC</td>\n",
       "      <td>11</td>\n",
       "    </tr>\n",
       "  </tbody>\n",
       "</table>\n",
       "</div>"
      ],
      "text/plain": [
       "    Year             Title                                              Notes  \\\n",
       "2   1978          Superman         Won 1 Special Oscar, nominated for 3 more.   \n",
       "10  1989            Batman                                       Won 1 Oscar.   \n",
       "11  1992    Batman Returns                            Nominated for 2 Oscars.   \n",
       "12  1995    Batman Forever                            Nominated for 3 Oscars.   \n",
       "26  2005     Batman Begins                     Reboot; nominated for 1 Oscar.   \n",
       "30  2006  Superman Returns  Alternate trilogy conclusion only to Superman ...   \n",
       "34  2008   The Dark Knight                Won 2 Oscars, nominated for 6 more.   \n",
       "62  2016     Suicide Squad                      Set in the DCEU. Won 1 Oscar.   \n",
       "80  2019             Joker                Won 2 Oscars, nominated for 9 more.   \n",
       "\n",
       "   Comics  Nomination Count  \n",
       "2      DC                 4  \n",
       "10     DC                 1  \n",
       "11     DC                 2  \n",
       "12     DC                 3  \n",
       "26     DC                 1  \n",
       "30     DC                 1  \n",
       "34     DC                 8  \n",
       "62     DC                 1  \n",
       "80     DC                11  "
      ]
     },
     "execution_count": 108,
     "metadata": {},
     "output_type": "execute_result"
    }
   ],
   "source": [
    "max_dc['Nomination Count'] = flattened_list\n",
    "max_dc"
   ]
  },
  {
   "cell_type": "code",
   "execution_count": 110,
   "metadata": {},
   "outputs": [
    {
     "data": {
      "text/html": [
       "<div>\n",
       "<style scoped>\n",
       "    .dataframe tbody tr th:only-of-type {\n",
       "        vertical-align: middle;\n",
       "    }\n",
       "\n",
       "    .dataframe tbody tr th {\n",
       "        vertical-align: top;\n",
       "    }\n",
       "\n",
       "    .dataframe thead th {\n",
       "        text-align: right;\n",
       "    }\n",
       "</style>\n",
       "<table border=\"1\" class=\"dataframe\">\n",
       "  <thead>\n",
       "    <tr style=\"text-align: right;\">\n",
       "      <th></th>\n",
       "      <th>Year</th>\n",
       "      <th>Title</th>\n",
       "      <th>Notes</th>\n",
       "      <th>Comics</th>\n",
       "      <th>Nomination Count</th>\n",
       "    </tr>\n",
       "  </thead>\n",
       "  <tbody>\n",
       "    <tr>\n",
       "      <th>80</th>\n",
       "      <td>2019</td>\n",
       "      <td>Joker</td>\n",
       "      <td>Won 2 Oscars, nominated for 9 more.</td>\n",
       "      <td>DC</td>\n",
       "      <td>11</td>\n",
       "    </tr>\n",
       "  </tbody>\n",
       "</table>\n",
       "</div>"
      ],
      "text/plain": [
       "    Year  Title                                Notes Comics  Nomination Count\n",
       "80  2019  Joker  Won 2 Oscars, nominated for 9 more.     DC                11"
      ]
     },
     "execution_count": 110,
     "metadata": {},
     "output_type": "execute_result"
    }
   ],
   "source": [
    "max_dc1 = max_dc[max_dc['Nomination Count']==max_dc['Nomination Count'].max()]\n",
    "max_dc1"
   ]
  },
  {
   "cell_type": "markdown",
   "metadata": {},
   "source": [
    "Así, en 2019, la película \"Joker\" realmente elevó el recuento general de nominaciones de DC, superando a Marvel.\n",
    "\n",
    "Pero, ¿qué publicación ganó más premios Oscar? ¿Marvel Comics o DC Comics?\n",
    "\n",
    "Averigüémoslo en la siguiente sección."
   ]
  },
  {
   "cell_type": "markdown",
   "metadata": {},
   "source": [
    "#### 10. Encontrar qué publicación tiene el mayor número de ganadores de los Oscar según películas de acción real"
   ]
  },
  {
   "cell_type": "code",
   "execution_count": 111,
   "metadata": {},
   "outputs": [
    {
     "name": "stderr",
     "output_type": "stream",
     "text": [
      "C:\\Users\\Anna\\AppData\\Local\\Temp\\ipykernel_1640\\2399996104.py:1: UserWarning: This pattern is interpreted as a regular expression, and has match groups. To actually get the groups, use str.extract.\n",
      "  won_o = exo[exo['Notes'].str.contains(r\"(W|w)on\", na=False)]\n"
     ]
    },
    {
     "data": {
      "text/html": [
       "<div>\n",
       "<style scoped>\n",
       "    .dataframe tbody tr th:only-of-type {\n",
       "        vertical-align: middle;\n",
       "    }\n",
       "\n",
       "    .dataframe tbody tr th {\n",
       "        vertical-align: top;\n",
       "    }\n",
       "\n",
       "    .dataframe thead th {\n",
       "        text-align: right;\n",
       "    }\n",
       "</style>\n",
       "<table border=\"1\" class=\"dataframe\">\n",
       "  <thead>\n",
       "    <tr style=\"text-align: right;\">\n",
       "      <th></th>\n",
       "      <th>Notes</th>\n",
       "      <th>Comics</th>\n",
       "      <th>Nomination Count</th>\n",
       "    </tr>\n",
       "  </thead>\n",
       "  <tbody>\n",
       "    <tr>\n",
       "      <th>0</th>\n",
       "      <td>Won 1 Special Oscar</td>\n",
       "      <td>DC</td>\n",
       "      <td>1</td>\n",
       "    </tr>\n",
       "    <tr>\n",
       "      <th>3</th>\n",
       "      <td>Won 1 Oscar</td>\n",
       "      <td>DC</td>\n",
       "      <td>1</td>\n",
       "    </tr>\n",
       "    <tr>\n",
       "      <th>10</th>\n",
       "      <td>Won 1 Oscar</td>\n",
       "      <td>MC</td>\n",
       "      <td>1</td>\n",
       "    </tr>\n",
       "    <tr>\n",
       "      <th>18</th>\n",
       "      <td>Won 2 Oscars</td>\n",
       "      <td>DC</td>\n",
       "      <td>2</td>\n",
       "    </tr>\n",
       "    <tr>\n",
       "      <th>33</th>\n",
       "      <td>Won 1 Oscar</td>\n",
       "      <td>DC</td>\n",
       "      <td>1</td>\n",
       "    </tr>\n",
       "    <tr>\n",
       "      <th>38</th>\n",
       "      <td>Won 3 Oscars</td>\n",
       "      <td>MC</td>\n",
       "      <td>3</td>\n",
       "    </tr>\n",
       "    <tr>\n",
       "      <th>41</th>\n",
       "      <td>Won 2 Oscars</td>\n",
       "      <td>DC</td>\n",
       "      <td>2</td>\n",
       "    </tr>\n",
       "  </tbody>\n",
       "</table>\n",
       "</div>"
      ],
      "text/plain": [
       "                  Notes Comics  Nomination Count\n",
       "0   Won 1 Special Oscar     DC                 1\n",
       "3           Won 1 Oscar     DC                 1\n",
       "10          Won 1 Oscar     MC                 1\n",
       "18         Won 2 Oscars     DC                 2\n",
       "33          Won 1 Oscar     DC                 1\n",
       "38         Won 3 Oscars     MC                 3\n",
       "41         Won 2 Oscars     DC                 2"
      ]
     },
     "execution_count": 111,
     "metadata": {},
     "output_type": "execute_result"
    }
   ],
   "source": [
    "won_o = exo[exo['Notes'].str.contains(r\"(W|w)on\", na=False)]\n",
    "won_o"
   ]
  },
  {
   "cell_type": "code",
   "execution_count": 113,
   "metadata": {},
   "outputs": [
    {
     "data": {
      "text/plain": [
       "Comics\n",
       "DC    7\n",
       "MC    4\n",
       "Name: Nomination Count, dtype: int64"
      ]
     },
     "execution_count": 113,
     "metadata": {},
     "output_type": "execute_result"
    }
   ],
   "source": [
    "win_count = won_o.groupby(\"Comics\")['Nomination Count'].sum()\n",
    "win_count"
   ]
  },
  {
   "cell_type": "markdown",
   "metadata": {},
   "source": [
    "¡DC Films superó a Marvel Films y ganó los Oscar!"
   ]
  },
  {
   "cell_type": "markdown",
   "metadata": {},
   "source": [
    "#### CONCLUSIÓN\n",
    "\n",
    "El objetivo de extraer datos, limpiarlos y analizarlos se había cumplido. Fue un tema muy interesante con el que trabajar. La codificación se centró principalmente en corregir y reorganizar las filas y requirió muchos cálculos.\n",
    "\n",
    "Descubrí que la mayoría de las películas basadas en Marvel obtuvieron nominaciones que las películas basadas en DC. ¡Pero las películas de DC obtuvieron nominaciones en más categorías que Marvel y también superaron a Marvel al ganar más premios Oscar!\n",
    "\n",
    "Sin embargo, ya sea del Universo de DC o del Universo Cinematográfico de Marvel, ¡me gusta ver todas sus películas!"
   ]
  }
 ],
 "metadata": {
  "colab": {
   "authorship_tag": "ABX9TyOpveX2M+VY3VADuSL+sgmK",
   "name": "",
   "version": ""
  },
  "kernelspec": {
   "display_name": "Python 3",
   "name": "python3"
  },
  "language_info": {
   "codemirror_mode": {
    "name": "ipython",
    "version": 3
   },
   "file_extension": ".py",
   "mimetype": "text/x-python",
   "name": "python",
   "nbconvert_exporter": "python",
   "pygments_lexer": "ipython3",
   "version": "3.12.7"
  }
 },
 "nbformat": 4,
 "nbformat_minor": 0
}
