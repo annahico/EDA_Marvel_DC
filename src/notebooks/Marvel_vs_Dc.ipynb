{
 "cells": [
  {
   "cell_type": "markdown",
   "metadata": {},
   "source": [
    "# Marvel vs DC: Exploratory Data Analysis (EDA)\n"
   ]
  },
  {
   "cell_type": "markdown",
   "metadata": {},
   "source": [
    "### Introducción\n",
    "Este notebook analiza los datos de las franquicias de Marvel y DC para identificar patrones y realizar comparaciones clave. El objetivo es entender cómo diferentes factores influyen en el éxito de sus películas y series."
   ]
  },
  {
   "cell_type": "markdown",
   "metadata": {},
   "source": [
    "### Contexto\n",
    "Las franquicias de Marvel y DC son dos de las más grandes en la industria del entretenimiento. Este análisis busca responder preguntas como:\n",
    "- ¿Cuál de las dos tiene mejores calificaciones promedio?\n",
    "- ¿Cómo varían los géneros entre Marvel y DC?"
   ]
  },
  {
   "cell_type": "markdown",
   "metadata": {},
   "source": [
    "### Hipótesis\n",
    "1. Las películas de Marvel tienen una puntuación promedio en IMDb mayor que las de DC.\n",
    "2. Los géneros más populares son consistentes entre ambas franquicias."
   ]
  },
  {
   "cell_type": "markdown",
   "metadata": {},
   "source": [
    "#### 1. Importación de Librerías"
   ]
  },
  {
   "cell_type": "code",
   "execution_count": 2,
   "metadata": {
    "colab": {
     "background_save": true
    },
    "executionInfo": {
     "elapsed": 374,
     "status": "ok",
     "timestamp": 1671067107244,
     "user": {
      "displayName": "Muhammad Akbar",
      "userId": "00229604356602963247"
     },
     "user_tz": -420
    },
    "id": "vkAz8Se_vse3"
   },
   "outputs": [],
   "source": [
    "import bs4 as bs\n",
    "import urllib.request\n",
    "import pandas as pd\n",
    "import numpy as np\n",
    "import seaborn as sns\n",
    "import re\n",
    "from pandas import DataFrame\n",
    "import matplotlib.pyplot as plt\n",
    "# from nltk import flatten\n",
    "sns.set()\n",
    "%matplotlib inline"
   ]
  },
  {
   "cell_type": "code",
   "execution_count": 3,
   "metadata": {},
   "outputs": [],
   "source": [
    "# Configuraciones de visualización\n",
    "sns.set(style=\"whitegrid\")\n",
    "plt.rcParams['figure.figsize'] = (10, 6)"
   ]
  },
  {
   "cell_type": "markdown",
   "metadata": {},
   "source": [
    "####  2. Extracción de datos para la lista de películas de acción real basadas en publicaciones de Marvel Comics"
   ]
  },
  {
   "cell_type": "code",
   "execution_count": 4,
   "metadata": {
    "colab": {
     "background_save": true
    },
    "executionInfo": {
     "elapsed": 269,
     "status": "ok",
     "timestamp": 1671067110701,
     "user": {
      "displayName": "Muhammad Akbar",
      "userId": "00229604356602963247"
     },
     "user_tz": -420
    },
    "id": "PcmA63R6v1Dy"
   },
   "outputs": [],
   "source": [
    "sauce1 = urllib.request.urlopen(\"https://en.wikipedia.org/wiki/List_of_films_based_on_Marvel_Comics_publications\")\n",
    "soup1 = bs.BeautifulSoup(sauce1, 'lxml')"
   ]
  },
  {
   "cell_type": "markdown",
   "metadata": {},
   "source": [
    "Extracción de los nombres de las columnas"
   ]
  },
  {
   "cell_type": "code",
   "execution_count": 6,
   "metadata": {},
   "outputs": [
    {
     "data": {
      "text/plain": [
       "['Year', 'Title', 'Production studio(s)', 'Notes', 'Upcoming']"
      ]
     },
     "execution_count": 6,
     "metadata": {},
     "output_type": "execute_result"
    }
   ],
   "source": [
    "table1 = soup1.find('table')\n",
    "tbody1 = table1.select(\"tbody\")\n",
    "th1 = table1.select(\"th\")\n",
    "column_names1 = [str(c.string).strip() for c in th1]\n",
    "column_names1"
   ]
  },
  {
   "cell_type": "markdown",
   "metadata": {},
   "source": [
    "Extracción de datos de filas"
   ]
  },
  {
   "cell_type": "code",
   "execution_count": 8,
   "metadata": {},
   "outputs": [],
   "source": [
    "# Encontrar todas las filas de la tabla y excluir las innecesarias\n",
    "table_rows1 = table1.find_all('tr')[1:61]\n",
    "\n",
    "# Manteniéndolos en una lista con todos los datos de la tabla\n",
    "row_list1 = []\n",
    "for tr1 in table_rows1:\n",
    "    td1 = tr1.find_all('td')\n",
    "    row1 = [str(i1.get_text()).strip() for i1 in td1]\n",
    "\n",
    "    # Intentando encontrar valores de Año en cadenas y convertirlos a números enteros\n",
    "    if len(row1) > 0 and len(row1[0]) == 4:\n",
    "        try:\n",
    "            row1[0] = int(row1[0])\n",
    "        except:\n",
    "            continue\n",
    "    row_list1.append(row1)\n",
    "\n",
    "# Se corrige el intervalo de filas obtenido de HTML. También se limpian y reemplazan las filas con los valores adecuados\n",
    "row_list_marvel = []\n",
    "for b1 in row_list1:\n",
    "    if isinstance(b1[0], str) and len(b1) == 3:\n",
    "        b1.insert(0, '')\n",
    "    if isinstance(b1[0], str) and len(b1) == 2:\n",
    "        b1.insert(0, '')\n",
    "        b1.insert(1, '')\n",
    "    if len(b1) > 1 and b1[1] == '':\n",
    "        try:\n",
    "            b1[1] = b1[2]\n",
    "            b1[2] = \"\"\n",
    "        except:\n",
    "            continue\n",
    "    if len(b1) == 3:\n",
    "        b1.append('None')\n",
    "    row_list_marvel.append(b1)"
   ]
  },
  {
   "cell_type": "markdown",
   "metadata": {},
   "source": [
    "Limpieza y Preprocesamiento"
   ]
  },
  {
   "cell_type": "code",
   "execution_count": 13,
   "metadata": {
    "colab": {
     "background_save": true,
     "base_uri": "https://localhost:8080/"
    },
    "executionInfo": {
     "elapsed": 220,
     "status": "ok",
     "timestamp": 1671067110708,
     "user": {
      "displayName": "Muhammad Akbar",
      "userId": "00229604356602963247"
     },
     "user_tz": -420
    },
    "id": "jdQrHxn2zQOo"
   },
   "outputs": [
    {
     "name": "stderr",
     "output_type": "stream",
     "text": [
      "C:\\Users\\Anna\\AppData\\Local\\Temp\\ipykernel_1640\\1977526810.py:8: FutureWarning: Series.fillna with 'method' is deprecated and will raise in a future version. Use obj.ffill() or obj.bfill() instead.\n",
      "  df1['Year'] = df1['Year'].fillna(method='ffill')\n",
      "C:\\Users\\Anna\\AppData\\Local\\Temp\\ipykernel_1640\\1977526810.py:23: FutureWarning: Series.fillna with 'method' is deprecated and will raise in a future version. Use obj.ffill() or obj.bfill() instead.\n",
      "  df1['Production studio(s)'] = df1['Production studio(s)'].fillna(method='ffill')\n"
     ]
    }
   ],
   "source": [
    "# Convertir la lista en un marco de datos\n",
    "df1 = pd.DataFrame(row_list_marvel, columns=column_names1[:4])\n",
    "\n",
    "# Reemplazar nuevos valores faltantes con NaN\n",
    "df1['Year'] = df1['Year'].replace('', np.nan)\n",
    "\n",
    "# Rellenar los valores NaN con los datos de la fila anterior (¡corregir nuevamente los datos del problema de rowspan!)\n",
    "df1['Year'] = df1['Year'].fillna(method='ffill')\n",
    "\n",
    "# Filtrar solo los valores numéricos en la columna 'Year'\n",
    "df1 = df1[pd.to_numeric(df1['Year'], errors='coerce').notnull()]\n",
    "\n",
    "# Conversión de todos los valores de Año a números enteros que se convirtieron en flotantes en el proceso\n",
    "df1['Year'] = df1['Year'].astype(float).astype(int)\n",
    "\n",
    "# Cambiar algunas filas de Production Studio(s) con las filas Ninguna de Notas que aparecieron en las Notas después de cambiar las filas a la derecha para corregir el problema de extensión de filas\n",
    "wrongDataIdx1 = (df1['Notes'] == 'None')\n",
    "df1.loc[wrongDataIdx1, ['Production studio(s)', 'Notes']] = df1.loc[wrongDataIdx1, ['Notes', 'Production studio(s)']].values\n",
    "\n",
    "# Rellenar None con valores NaN y luego con los valores apropiados\n",
    "df1['Production studio(s)'] = df1['Production studio(s)'].replace('None', np.nan)\n",
    "df1['Production studio(s)'] = df1['Production studio(s)'].replace(\"\", np.nan)\n",
    "df1['Production studio(s)'] = df1['Production studio(s)'].fillna(method='ffill')"
   ]
  },
  {
   "cell_type": "code",
   "execution_count": 14,
   "metadata": {},
   "outputs": [
    {
     "data": {
      "text/html": [
       "<div>\n",
       "<style scoped>\n",
       "    .dataframe tbody tr th:only-of-type {\n",
       "        vertical-align: middle;\n",
       "    }\n",
       "\n",
       "    .dataframe tbody tr th {\n",
       "        vertical-align: top;\n",
       "    }\n",
       "\n",
       "    .dataframe thead th {\n",
       "        text-align: right;\n",
       "    }\n",
       "</style>\n",
       "<table border=\"1\" class=\"dataframe\">\n",
       "  <thead>\n",
       "    <tr style=\"text-align: right;\">\n",
       "      <th></th>\n",
       "      <th>Year</th>\n",
       "      <th>Title</th>\n",
       "      <th>Production studio(s)</th>\n",
       "      <th>Notes</th>\n",
       "    </tr>\n",
       "  </thead>\n",
       "  <tbody>\n",
       "    <tr>\n",
       "      <th>0</th>\n",
       "      <td>1986</td>\n",
       "      <td>Howard the Duck</td>\n",
       "      <td>Universal Pictures</td>\n",
       "      <td>Co-produced by Lucasfilm</td>\n",
       "    </tr>\n",
       "    <tr>\n",
       "      <th>1</th>\n",
       "      <td>1998</td>\n",
       "      <td>Blade</td>\n",
       "      <td>New Line Cinema</td>\n",
       "      <td></td>\n",
       "    </tr>\n",
       "    <tr>\n",
       "      <th>2</th>\n",
       "      <td>2000</td>\n",
       "      <td>X-Men</td>\n",
       "      <td>New Line Cinema</td>\n",
       "      <td>20th Century Fox</td>\n",
       "    </tr>\n",
       "    <tr>\n",
       "      <th>3</th>\n",
       "      <td>2002</td>\n",
       "      <td>Blade II</td>\n",
       "      <td>New Line Cinema</td>\n",
       "      <td>New Line Cinema</td>\n",
       "    </tr>\n",
       "    <tr>\n",
       "      <th>4</th>\n",
       "      <td>2002</td>\n",
       "      <td>Spider-Man</td>\n",
       "      <td>Columbia Pictures</td>\n",
       "      <td>Nominated for 2 Oscars</td>\n",
       "    </tr>\n",
       "  </tbody>\n",
       "</table>\n",
       "</div>"
      ],
      "text/plain": [
       "   Year            Title Production studio(s)                     Notes\n",
       "0  1986  Howard the Duck   Universal Pictures  Co-produced by Lucasfilm\n",
       "1  1998            Blade      New Line Cinema                          \n",
       "2  2000            X-Men      New Line Cinema          20th Century Fox\n",
       "3  2002         Blade II      New Line Cinema           New Line Cinema\n",
       "4  2002       Spider-Man    Columbia Pictures    Nominated for 2 Oscars"
      ]
     },
     "execution_count": 14,
     "metadata": {},
     "output_type": "execute_result"
    }
   ],
   "source": [
    "df1.head()"
   ]
  },
  {
   "cell_type": "markdown",
   "metadata": {},
   "source": [
    "#### 3. Recopilación de datos para la lista de películas de acción real basadas en publicaciones de DC Comics"
   ]
  },
  {
   "cell_type": "code",
   "execution_count": 15,
   "metadata": {},
   "outputs": [],
   "source": [
    "\n",
    "sauce2 = urllib.request.urlopen(\"https://en.wikipedia.org/wiki/List_of_films_based_on_DC_Comics_publications\")\n",
    "soup2 = bs.BeautifulSoup(sauce2, 'lxml')"
   ]
  },
  {
   "cell_type": "markdown",
   "metadata": {},
   "source": [
    "Extracción de los nombres de las columnas"
   ]
  },
  {
   "cell_type": "code",
   "execution_count": 16,
   "metadata": {},
   "outputs": [
    {
     "data": {
      "text/plain": [
       "['Year', 'Title', 'Production studio(s)', 'Notes', 'Upcoming']"
      ]
     },
     "execution_count": 16,
     "metadata": {},
     "output_type": "execute_result"
    }
   ],
   "source": [
    "table2 = soup2.find('table')\n",
    "tbody2 = table2.select(\"tbody\")\n",
    "th2 = table2.select(\"th\")\n",
    "column_names2 = [str(c.string).strip() for c in th2]\n",
    "column_names2"
   ]
  },
  {
   "cell_type": "markdown",
   "metadata": {},
   "source": [
    "Extracción de datos de filas"
   ]
  },
  {
   "cell_type": "code",
   "execution_count": 21,
   "metadata": {},
   "outputs": [],
   "source": [
    "# Encontrar todas las filas de la tabla y excluir las innecesarias\n",
    "table_rows2 = table2.find_all('tr')[1:35]\n",
    "\n",
    "# Manteniéndolos en una lista con todos los datos de la tabla\n",
    "row_list2 = []\n",
    "for tr2 in table_rows2:\n",
    "  td2 = tr2.find_all('td')\n",
    "\n",
    "# Intentando encontrar valores de Año en cadenas y convertirlos a números enteros\n",
    "  row2 = [str(i2.get_text()).strip() for i2 in td2]\n",
    "  if len(row2[0])==4:\n",
    "    try:\n",
    "      row2[0]=int(row2[0])\n",
    "    except:\n",
    "      continue\n",
    "  row_list2.append(row2)\n",
    "\n",
    "# Se corrige el intervalo de filas obtenido de HTML. También se limpian y reemplazan las filas con los valores adecuados\n",
    "row_list_dc = []\n",
    "for b2 in row_list2:\n",
    "  if isinstance(b2[0], str) and len(b2)==3:\n",
    "    b2.insert(0, '')\n",
    "  if isinstance(b2[0], str) and len(b2)==2:\n",
    "    b2.insert(0, '')\n",
    "    b2.insert(1, '')\n",
    "  if b2[1]=='':\n",
    "    try:\n",
    "      b2[1]=b2[2]\n",
    "      b2[2]=\"\"\n",
    "    except:\n",
    "      continue\n",
    "  if len(b2)==3:\n",
    "    b2.append('None')\n",
    "  else:\n",
    "    b2\n",
    "  row_list_dc.append(b2)"
   ]
  },
  {
   "cell_type": "markdown",
   "metadata": {},
   "source": [
    "Limpieza y Preprocesamiento"
   ]
  },
  {
   "cell_type": "code",
   "execution_count": 29,
   "metadata": {},
   "outputs": [
    {
     "name": "stderr",
     "output_type": "stream",
     "text": [
      "C:\\Users\\Anna\\AppData\\Local\\Temp\\ipykernel_1640\\2439392908.py:5: FutureWarning: Downcasting behavior in `replace` is deprecated and will be removed in a future version. To retain the old behavior, explicitly call `result.infer_objects(copy=False)`. To opt-in to the future behavior, set `pd.set_option('future.no_silent_downcasting', True)`\n",
      "  df2['Year'] = df2['Year'].replace('', np.nan)\n",
      "C:\\Users\\Anna\\AppData\\Local\\Temp\\ipykernel_1640\\2439392908.py:8: FutureWarning: Series.fillna with 'method' is deprecated and will raise in a future version. Use obj.ffill() or obj.bfill() instead.\n",
      "  df2['Year'] = df2['Year'].fillna(method='ffill')\n",
      "C:\\Users\\Anna\\AppData\\Local\\Temp\\ipykernel_1640\\2439392908.py:20: FutureWarning: Series.fillna with 'method' is deprecated and will raise in a future version. Use obj.ffill() or obj.bfill() instead.\n",
      "  df2['Production studio(s)'] = df2['Production studio(s)'].fillna(method='ffill')\n"
     ]
    }
   ],
   "source": [
    "\n",
    "#Convirtiendo la lista en un marco de datos\n",
    "df2 = pd.DataFrame(row_list_dc, columns=column_names2[:4])\n",
    "\n",
    "# Reemplazar nuevos valores faltantes con NaN\n",
    "df2['Year'] = df2['Year'].replace('', np.nan)\n",
    "\n",
    "# Rellenar los valores NaN con los datos de la fila anterior (¡corregir nuevamente los datos del problema de rowspan!)\n",
    "df2['Year'] = df2['Year'].fillna(method='ffill')\n",
    "\n",
    "# Conversión de todos los valores de Año a números enteros que se convirtieron en flotantes en el proceso\n",
    "df2['Year'] = df2['Year'].astype(float).astype(int)\n",
    "\n",
    "# Cambiar algunas filas de Production Studio(s) con las filas Ninguna de Notas que aparecieron en las Notas después de cambiar las filas a la derecha para corregir el problema de extensión de filas\n",
    "wrongDataIdx2 = (df2['Notes'] == 'None')\n",
    "df2.loc[wrongDataIdx2, ['Production studio(s)', 'Notes']] = df2.loc[wrongDataIdx2, ['Notes', 'Production studio(s)']].values\n",
    "\n",
    "# Rellenar None con valores NaN y luego con los valores apropiados\n",
    "df2['Production studio(s)'] = df2['Production studio(s)'].replace('None', np.nan)\n",
    "df2['Production studio(s)'] = df2['Production studio(s)'].replace(\"\", np.nan)\n",
    "df2['Production studio(s)'] = df2['Production studio(s)'].fillna(method='ffill')"
   ]
  },
  {
   "cell_type": "code",
   "execution_count": 30,
   "metadata": {},
   "outputs": [
    {
     "data": {
      "text/html": [
       "<div>\n",
       "<style scoped>\n",
       "    .dataframe tbody tr th:only-of-type {\n",
       "        vertical-align: middle;\n",
       "    }\n",
       "\n",
       "    .dataframe tbody tr th {\n",
       "        vertical-align: top;\n",
       "    }\n",
       "\n",
       "    .dataframe thead th {\n",
       "        text-align: right;\n",
       "    }\n",
       "</style>\n",
       "<table border=\"1\" class=\"dataframe\">\n",
       "  <thead>\n",
       "    <tr style=\"text-align: right;\">\n",
       "      <th></th>\n",
       "      <th>Year</th>\n",
       "      <th>Title</th>\n",
       "      <th>Production studio(s)</th>\n",
       "      <th>Notes</th>\n",
       "    </tr>\n",
       "  </thead>\n",
       "  <tbody>\n",
       "    <tr>\n",
       "      <th>0</th>\n",
       "      <td>1951</td>\n",
       "      <td>Superman and the Mole Men</td>\n",
       "      <td>Lippert Pictures</td>\n",
       "      <td>First feature film based on a DC Comics charac...</td>\n",
       "    </tr>\n",
       "    <tr>\n",
       "      <th>1</th>\n",
       "      <td>1966</td>\n",
       "      <td>Batman</td>\n",
       "      <td>20th Century Fox/Greenlawn Productions</td>\n",
       "      <td>Related to the 1960s Batman television series.</td>\n",
       "    </tr>\n",
       "    <tr>\n",
       "      <th>2</th>\n",
       "      <td>1978</td>\n",
       "      <td>Superman</td>\n",
       "      <td>Dovemead Film Export A.G./International Film P...</td>\n",
       "      <td>Won 1 Special Oscar, nominated for 3 more.</td>\n",
       "    </tr>\n",
       "    <tr>\n",
       "      <th>3</th>\n",
       "      <td>1980</td>\n",
       "      <td>Superman II</td>\n",
       "      <td>Dovemead Film Export A.G./International Film P...</td>\n",
       "      <td>Director's cut titled Superman II: The Richard...</td>\n",
       "    </tr>\n",
       "    <tr>\n",
       "      <th>4</th>\n",
       "      <td>1982</td>\n",
       "      <td>Swamp Thing</td>\n",
       "      <td>Embassy Pictures</td>\n",
       "      <td></td>\n",
       "    </tr>\n",
       "  </tbody>\n",
       "</table>\n",
       "</div>"
      ],
      "text/plain": [
       "   Year                      Title  \\\n",
       "0  1951  Superman and the Mole Men   \n",
       "1  1966                     Batman   \n",
       "2  1978                   Superman   \n",
       "3  1980                Superman II   \n",
       "4  1982                Swamp Thing   \n",
       "\n",
       "                                Production studio(s)  \\\n",
       "0                                   Lippert Pictures   \n",
       "1             20th Century Fox/Greenlawn Productions   \n",
       "2  Dovemead Film Export A.G./International Film P...   \n",
       "3  Dovemead Film Export A.G./International Film P...   \n",
       "4                                   Embassy Pictures   \n",
       "\n",
       "                                               Notes  \n",
       "0  First feature film based on a DC Comics charac...  \n",
       "1     Related to the 1960s Batman television series.  \n",
       "2         Won 1 Special Oscar, nominated for 3 more.  \n",
       "3  Director's cut titled Superman II: The Richard...  \n",
       "4                                                     "
      ]
     },
     "execution_count": 30,
     "metadata": {},
     "output_type": "execute_result"
    }
   ],
   "source": [
    "\n",
    "df2.head()"
   ]
  },
  {
   "cell_type": "markdown",
   "metadata": {},
   "source": [
    "#### 4. Fusionar dos dataframes en uno y agregar una columna que contenga el nombre (abreviado) del cómic"
   ]
  },
  {
   "cell_type": "code",
   "execution_count": 37,
   "metadata": {
    "colab": {
     "background_save": true,
     "base_uri": "https://localhost:8080/",
     "height": 600
    },
    "executionInfo": {
     "elapsed": 266,
     "status": "ok",
     "timestamp": 1671067110702,
     "user": {
      "displayName": "Muhammad Akbar",
      "userId": "00229604356602963247"
     },
     "user_tz": -420
    },
    "id": "EAne9S5qwCY0"
   },
   "outputs": [],
   "source": [
    "mc=df1\n",
    "mc['Comics'] = 'MC'\n",
    "\n",
    "dc=df2\n",
    "dc['Comics'] = 'DC'"
   ]
  },
  {
   "cell_type": "code",
   "execution_count": 52,
   "metadata": {},
   "outputs": [
    {
     "data": {
      "text/html": [
       "<div>\n",
       "<style scoped>\n",
       "    .dataframe tbody tr th:only-of-type {\n",
       "        vertical-align: middle;\n",
       "    }\n",
       "\n",
       "    .dataframe tbody tr th {\n",
       "        vertical-align: top;\n",
       "    }\n",
       "\n",
       "    .dataframe thead th {\n",
       "        text-align: right;\n",
       "    }\n",
       "</style>\n",
       "<table border=\"1\" class=\"dataframe\">\n",
       "  <thead>\n",
       "    <tr style=\"text-align: right;\">\n",
       "      <th></th>\n",
       "      <th>Year</th>\n",
       "      <th>Title</th>\n",
       "      <th>Production studio(s)</th>\n",
       "      <th>Notes</th>\n",
       "      <th>Comics</th>\n",
       "    </tr>\n",
       "  </thead>\n",
       "  <tbody>\n",
       "    <tr>\n",
       "      <th>0</th>\n",
       "      <td>1951</td>\n",
       "      <td>Superman and the Mole Men</td>\n",
       "      <td>Lippert Pictures</td>\n",
       "      <td>First feature film based on a DC Comics charac...</td>\n",
       "      <td>DC</td>\n",
       "    </tr>\n",
       "    <tr>\n",
       "      <th>1</th>\n",
       "      <td>1966</td>\n",
       "      <td>Batman</td>\n",
       "      <td>20th Century Fox/Greenlawn Productions</td>\n",
       "      <td>Related to the 1960s Batman television series.</td>\n",
       "      <td>DC</td>\n",
       "    </tr>\n",
       "    <tr>\n",
       "      <th>2</th>\n",
       "      <td>1978</td>\n",
       "      <td>Superman</td>\n",
       "      <td>Dovemead Film Export A.G./International Film P...</td>\n",
       "      <td>Won 1 Special Oscar, nominated for 3 more.</td>\n",
       "      <td>DC</td>\n",
       "    </tr>\n",
       "    <tr>\n",
       "      <th>3</th>\n",
       "      <td>1980</td>\n",
       "      <td>Superman II</td>\n",
       "      <td>Dovemead Film Export A.G./International Film P...</td>\n",
       "      <td>Director's cut titled Superman II: The Richard...</td>\n",
       "      <td>DC</td>\n",
       "    </tr>\n",
       "    <tr>\n",
       "      <th>4</th>\n",
       "      <td>1982</td>\n",
       "      <td>Swamp Thing</td>\n",
       "      <td>Embassy Pictures</td>\n",
       "      <td></td>\n",
       "      <td>DC</td>\n",
       "    </tr>\n",
       "    <tr>\n",
       "      <th>5</th>\n",
       "      <td>1983</td>\n",
       "      <td>Superman III</td>\n",
       "      <td>Embassy Pictures</td>\n",
       "      <td>Cantharus Productions N.V./Dovemead Films</td>\n",
       "      <td>DC</td>\n",
       "    </tr>\n",
       "    <tr>\n",
       "      <th>6</th>\n",
       "      <td>1984</td>\n",
       "      <td>Supergirl</td>\n",
       "      <td>Artistry Ltd/Cantharus Productions/Pueblo Film...</td>\n",
       "      <td>Spin-off to the 1978 Superman film.</td>\n",
       "      <td>DC</td>\n",
       "    </tr>\n",
       "    <tr>\n",
       "      <th>7</th>\n",
       "      <td>1986</td>\n",
       "      <td>Howard the Duck</td>\n",
       "      <td>Universal Pictures</td>\n",
       "      <td>Co-produced by Lucasfilm</td>\n",
       "      <td>MC</td>\n",
       "    </tr>\n",
       "    <tr>\n",
       "      <th>8</th>\n",
       "      <td>1987</td>\n",
       "      <td>Superman IV: The Quest for Peace</td>\n",
       "      <td>Golan-Globus/Cannon Films</td>\n",
       "      <td></td>\n",
       "      <td>DC</td>\n",
       "    </tr>\n",
       "    <tr>\n",
       "      <th>9</th>\n",
       "      <td>1989</td>\n",
       "      <td>The Return of Swamp Thing</td>\n",
       "      <td>Golan-Globus/Cannon Films</td>\n",
       "      <td>Lightyear Entertainment</td>\n",
       "      <td>DC</td>\n",
       "    </tr>\n",
       "  </tbody>\n",
       "</table>\n",
       "</div>"
      ],
      "text/plain": [
       "   Year                             Title  \\\n",
       "0  1951         Superman and the Mole Men   \n",
       "1  1966                            Batman   \n",
       "2  1978                          Superman   \n",
       "3  1980                       Superman II   \n",
       "4  1982                       Swamp Thing   \n",
       "5  1983                      Superman III   \n",
       "6  1984                         Supergirl   \n",
       "7  1986                   Howard the Duck   \n",
       "8  1987  Superman IV: The Quest for Peace   \n",
       "9  1989         The Return of Swamp Thing   \n",
       "\n",
       "                                Production studio(s)  \\\n",
       "0                                   Lippert Pictures   \n",
       "1             20th Century Fox/Greenlawn Productions   \n",
       "2  Dovemead Film Export A.G./International Film P...   \n",
       "3  Dovemead Film Export A.G./International Film P...   \n",
       "4                                   Embassy Pictures   \n",
       "5                                   Embassy Pictures   \n",
       "6  Artistry Ltd/Cantharus Productions/Pueblo Film...   \n",
       "7                                 Universal Pictures   \n",
       "8                          Golan-Globus/Cannon Films   \n",
       "9                          Golan-Globus/Cannon Films   \n",
       "\n",
       "                                               Notes Comics  \n",
       "0  First feature film based on a DC Comics charac...     DC  \n",
       "1     Related to the 1960s Batman television series.     DC  \n",
       "2         Won 1 Special Oscar, nominated for 3 more.     DC  \n",
       "3  Director's cut titled Superman II: The Richard...     DC  \n",
       "4                                                        DC  \n",
       "5          Cantharus Productions N.V./Dovemead Films     DC  \n",
       "6                Spin-off to the 1978 Superman film.     DC  \n",
       "7                           Co-produced by Lucasfilm     MC  \n",
       "8                                                        DC  \n",
       "9                            Lightyear Entertainment     DC  "
      ]
     },
     "execution_count": 52,
     "metadata": {},
     "output_type": "execute_result"
    }
   ],
   "source": [
    "mcdc = pd.concat([mc, dc], ignore_index=True).sort_values('Year', ascending=True).reset_index(drop=True)\n",
    "mcdc.head(10)"
   ]
  },
  {
   "cell_type": "markdown",
   "metadata": {},
   "source": [
    "#### 5. Se muestra el número total de películas de acción real producidas por año que se basan en Marvel Comics y DC Comics hasta 2020"
   ]
  },
  {
   "cell_type": "code",
   "execution_count": 53,
   "metadata": {
    "colab": {
     "background_save": true,
     "base_uri": "https://localhost:8080/"
    },
    "executionInfo": {
     "elapsed": 249,
     "status": "ok",
     "timestamp": 1671067110704,
     "user": {
      "displayName": "Muhammad Akbar",
      "userId": "00229604356602963247"
     },
     "user_tz": -420
    },
    "id": "YLJ4hmLIw75s"
   },
   "outputs": [],
   "source": [
    "count = mcdc[[\"Year\", \"Comics\"]]\n",
    "count_merge = count.value_counts()"
   ]
  },
  {
   "cell_type": "code",
   "execution_count": 60,
   "metadata": {},
   "outputs": [
    {
     "data": {
      "text/plain": [
       "Text(0.5, 0.98, '\\n Count of all Marvel (green) and DC (purple) Live Action Films produced per year')"
      ]
     },
     "execution_count": 60,
     "metadata": {},
     "output_type": "execute_result"
    },
    {
     "data": {
      "image/png": "[encoded data removed]",
      "text/plain": [
       "<Figure size 2578.62x500 with 1 Axes>"
      ]
     },
     "metadata": {},
     "output_type": "display_data"
    }
   ],
   "source": [
    "df_both = pd.DataFrame(count_merge).reset_index()\n",
    "df_both = df_both.rename(columns = {0: \"count\"})\n",
    "df_both = df_both.sort_values('Year', ascending=False)\n",
    "\n",
    "sns.set_theme(style=\"darkgrid\")\n",
    "ax = sns.catplot(data=df_both, kind=\"bar\", x=\"Year\", hue = 'Comics', y='count', height=5, aspect=5, palette=sns.color_palette(['purple', 'green']))\n",
    "ax.fig.suptitle('\\n Count of all Marvel (green) and DC (purple) Live Action Films produced per year')"
   ]
  },
  {
   "cell_type": "markdown",
   "metadata": {},
   "source": [
    "Análisis 1: Calificaciones promedio de Marvel vs. DC"
   ]
  },
  {
   "cell_type": "markdown",
   "metadata": {},
   "source": [
    "Análisis 2: Distribución de géneros entre Marvel y DC"
   ]
  },
  {
   "cell_type": "markdown",
   "metadata": {},
   "source": [
    "\n",
    "#### 5. Resultados obtenidos en el análisis:\n",
    "\n",
    "1. Calificaciones promedio:\n",
    "\n",
    "- Marvel tiene una calificación promedio de aproximadamente 6.2.\n",
    "- DC tiene una calificación promedio de aproximadamente 6.0.\n",
    "- Esto sugiere que las películas de Marvel, en promedio, tienen una ligera ventaja en calificación sobre las de DC.\n",
    "\n",
    "2. Distribución de géneros:\n",
    "\n",
    "- La gráfica de barras apiladas muestra la distribución de géneros como porcentaje del total en cada franquicia.\n",
    "- Los géneros más comunes están bien representados y categorizados. Sin embargo:\n",
    "   - Marvel tiene una gran proporción de géneros agrupados como \"Otros\" (~60%).\n",
    "   - DC también tiene una cantidad significativa de géneros en \"Otros\" (~50%).\n",
    "- Esto indica que ambas franquicias producen una diversidad de géneros, pero hay predominancia de ciertos géneros principales como acción y aventura.\n",
    "\n",
    "3. Datos faltantes en Marvel:\n",
    "\n",
    "- En el análisis de datos faltantes, se identificaron varias columnas con valores NaN, principalmente en información secundaria como \"Director\", \"Actor\" o \"Presupuesto\".\n",
    "- Este problema podría afectar el análisis detallado en futuras investigaciones sobre Marvel si no se corrige.\n",
    "\n",
    "4. Agrupación de géneros:\n",
    "\n",
    "- Los géneros menos frecuentes (menos de 10 películas) se agruparon bajo \"Otros\" para simplificar la visualización.\n",
    "- Esto ayudó a destacar los géneros más representativos en ambas franquicias, facilitando la comparación."
   ]
  }
 ],
 "metadata": {
  "colab": {
   "authorship_tag": "ABX9TyOpveX2M+VY3VADuSL+sgmK",
   "name": "",
   "version": ""
  },
  "kernelspec": {
   "display_name": "Python 3",
   "name": "python3"
  },
  "language_info": {
   "codemirror_mode": {
    "name": "ipython",
    "version": 3
   },
   "file_extension": ".py",
   "mimetype": "text/x-python",
   "name": "python",
   "nbconvert_exporter": "python",
   "pygments_lexer": "ipython3",
   "version": "3.12.7"
  }
 },
 "nbformat": 4,
 "nbformat_minor": 0
}
